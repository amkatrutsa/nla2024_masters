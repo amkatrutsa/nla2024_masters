{
 "cells": [
  {
   "cell_type": "markdown",
   "id": "49916fa2",
   "metadata": {
    "slideshow": {
     "slide_type": "slide"
    }
   },
   "source": [
    "# Лекция 11. Разреженные матрицы"
   ]
  },
  {
   "cell_type": "markdown",
   "id": "ca87df8a",
   "metadata": {
    "slideshow": {
     "slide_type": "slide"
    }
   },
   "source": [
    "## План на сегодняшнюю лекцию\n",
    "\n",
    "- Разреженные матрицы и форматы их представления\n",
    "- Быстрая реализация умножения разреженной матрицы на вектор "
   ]
  },
  {
   "cell_type": "markdown",
   "id": "64014a62",
   "metadata": {
    "slideshow": {
     "slide_type": "slide"
    }
   },
   "source": [
    "## Разреженные матрицы\n",
    "\n",
    "- Ограничением в решении задач линейной алгебры с плотными матрицами является память, требуемая для хранения плотных матриц, $N^2$ элементов.\n",
    "\n",
    "- Разреженные матрицы, где большинство элементов нулевые позволяют по крайней мере хранить их в памяти.\n",
    "\n",
    "- Основные вопросы: можем ли мы решать следующие задачи для разреженных матриц?\n",
    "    - решение линейных систем\n",
    "    - вычисление собственных значений и собственных векторов\n",
    "    - вычисление матричных функций"
   ]
  },
  {
   "cell_type": "markdown",
   "id": "1a605be3",
   "metadata": {
    "slideshow": {
     "slide_type": "slide"
    }
   },
   "source": [
    "## Приложения разреженных матриц\n",
    "\n",
    "Разреженные матрицы возникают в следующих областях:\n",
    "\n",
    "- математическое моделирование и решение уравнений в частных производных\n",
    "- обработка графов, например анализ социальных сетей\n",
    "- рекомендательные системы\n",
    "- в целом там, где отношения между объектами \"разрежены\"."
   ]
  },
  {
   "cell_type": "markdown",
   "id": "87a97427",
   "metadata": {
    "slideshow": {
     "slide_type": "slide"
    }
   },
   "source": [
    "### Разреженные матрицы помогают в вычислительной теории графов \n",
    "\n",
    "- Графы представляют в виде матриц смежности, которые чаще всего разрежены\n",
    "- Численное решение задач теории графов сводится к операциям с этими разреженными матрицами\n",
    "    - Кластеризация графа и выделение сообществ\n",
    "    - Ранжирование\n",
    "    - Случайные блуждатели\n",
    "    - И другие....\n",
    "- Пример: возможно, самый большой доступный граф гиперссылок содержит 3.5 миллиарда веб-страниц и 128 миллиардов гиперссылок, больше подробностей см. [тут](http://webdatacommons.org/hyperlinkgraph/) \n",
    "- Различные графы среднего размера для тестирования ваших алгоритмов доступны в [Stanford Large Network Dataset Collection](https://snap.stanford.edu/data/)"
   ]
  },
  {
   "cell_type": "markdown",
   "id": "81f7a2ad",
   "metadata": {
    "slideshow": {
     "slide_type": "slide"
    }
   },
   "source": [
    "### Florida sparse matrix collection\n",
    "\n",
    "- Большое количество разреженных матриц из различных приложений вы можете найти в [Florida sparse matrix collection](http://www.cise.ufl.edu/research/sparse/matrices/)."
   ]
  },
  {
   "cell_type": "code",
   "execution_count": 1,
   "id": "6486afd3",
   "metadata": {
    "slideshow": {
     "slide_type": "slide"
    }
   },
   "outputs": [
    {
     "data": {
      "text/html": [
       "\n",
       "        <iframe\n",
       "            width=\"500\"\n",
       "            height=\"500\"\n",
       "            src=\"http://yifanhu.net/GALLERY/GRAPHS/search.html\"\n",
       "            frameborder=\"0\"\n",
       "            allowfullscreen\n",
       "            \n",
       "        ></iframe>\n",
       "        "
      ],
      "text/plain": [
       "<IPython.lib.display.IFrame at 0x105eecca0>"
      ]
     },
     "execution_count": 1,
     "metadata": {},
     "output_type": "execute_result"
    }
   ],
   "source": [
    "from IPython.display import IFrame\n",
    "IFrame('http://yifanhu.net/GALLERY/GRAPHS/search.html', 500, 500)"
   ]
  },
  {
   "cell_type": "markdown",
   "id": "75c0fb5a",
   "metadata": {
    "slideshow": {
     "slide_type": "slide"
    }
   },
   "source": [
    "### Разреженные матрицы и глубокое обучение\n",
    "\n",
    "- DNN имеют очень много параметров\n",
    "- Некоторые из них могут быть избыточными\n",
    "- Как уменьшить число параметров без серьёзной потери в точности?\n",
    "- [Sparse variational dropout method](https://github.com/ars-ashuha/variational-dropout-sparsifies-dnn) даёт существенно разреженные фильтры в DNN почти без потери точности!\n",
    "- [Lottery ticket hypothesis](https://arxiv.org/pdf/1803.03635.pdf) также рассматривает возможность спрасификации нейросети без снижения точности прогноза"
   ]
  },
  {
   "cell_type": "markdown",
   "id": "a97c6757",
   "metadata": {
    "slideshow": {
     "slide_type": "slide"
    }
   },
   "source": [
    "## Построение разреженных матриц\n",
    "\n",
    "- Мы можем генерировать разреженные матрицы с помощью пакета ```scipy.sparse```\n",
    "\n",
    "- Можно задать матрицы очень большого размера\n",
    "\n",
    "Полезные функции при создании разреженных матриц:\n",
    "- для созданий диагональной матрицы с заданными диагоналями ```spdiags```\n",
    "- Кронекерово произведение (определение будет далее) разреженных матриц ```kron```\n",
    "- также арифметические операции для разреженных матриц перегружены"
   ]
  },
  {
   "cell_type": "markdown",
   "id": "02767ee5",
   "metadata": {
    "slideshow": {
     "slide_type": "slide"
    }
   },
   "source": [
    "### Кронекерово произведение\n",
    "\n",
    "Для матриц $A\\in\\mathbb{R}^{n\\times m}$ и $B\\in\\mathbb{R}^{l\\times k}$ Кронекерово произведение определяется как блочная матрица следующего вида\n",
    "\n",
    "$$\n",
    "   A\\otimes B = \\begin{bmatrix}a_{11}B & \\dots & a_{1m}B \\\\ \\vdots & \\ddots & \\vdots \\\\ a_{n1}B & \\dots & a_{nm}B\\end{bmatrix}\\in\\mathbb{R}^{nl\\times mk}.\n",
    "$$\n",
    "\n",
    "Основные свойства:\n",
    "- билинейность\n",
    "- $(A\\otimes B) (C\\otimes D) = AC \\otimes BD$\n",
    "- Пусть $\\mathrm{vec}(X)$ оператор векторизации матрицы по столбцам. Тогда \n",
    "$\\mathrm{vec}(AXB) = (B^T \\otimes A) \\mathrm{vec}(X).$"
   ]
  },
  {
   "cell_type": "code",
   "execution_count": 2,
   "id": "d183ebb1",
   "metadata": {
    "slideshow": {
     "slide_type": "slide"
    }
   },
   "outputs": [
    {
     "name": "stdout",
     "output_type": "stream",
     "text": [
      "4992 1048576 (1024, 1024)\n"
     ]
    },
    {
     "data": {
      "image/png": "[encoded data removed]",
      "text/plain": [
       "<Figure size 640x480 with 1 Axes>"
      ]
     },
     "metadata": {},
     "output_type": "display_data"
    }
   ],
   "source": [
    "import numpy as np\n",
    "import scipy as sp\n",
    "import scipy.sparse\n",
    "from scipy.sparse import csc_matrix, csr_matrix\n",
    "import matplotlib.pyplot as plt\n",
    "import scipy.linalg\n",
    "import scipy.sparse.linalg\n",
    "%matplotlib inline\n",
    "n = 32\n",
    "ex = np.ones(n);\n",
    "lp1 = sp.sparse.spdiags(np.vstack((ex,  -2*ex, ex)), [-1, 0, 1], n, n, 'csr'); \n",
    "e = sp.sparse.eye(n)\n",
    "A = sp.sparse.kron(lp1, e) + sp.sparse.kron(e, lp1)\n",
    "A = csc_matrix(A)\n",
    "plt.spy(A, aspect='equal', marker='.', markersize=1)\n",
    "print(A.nnz, np.prod(A.shape), A.shape)"
   ]
  },
  {
   "cell_type": "markdown",
   "id": "95a2bae9",
   "metadata": {
    "slideshow": {
     "slide_type": "slide"
    }
   },
   "source": [
    "### Шаблон разреженности\n",
    "\n",
    "- Команда ```spy``` рисует шаблон разреженности данной матрицы: пиксель $(i, j)$ отображается на рисунке, если соответствующий элемент матрицы ненулевой.\n",
    "\n",
    "- Шаблон разреженности действительно очень важен для понимания сложности алгоритмов линейной алгебры для разреженных матриц.  \n",
    "\n",
    "- Зачастую шаблона разреженности достаточно для анализа того, насколько \"сложно\" работать с этой матрицей."
   ]
  },
  {
   "cell_type": "markdown",
   "id": "1afcc6f5",
   "metadata": {
    "slideshow": {
     "slide_type": "slide"
    }
   },
   "source": [
    "### Определение разреженных матриц\n",
    "\n",
    "- Разреженные матрицы – это матрицы, такие что количество ненулевых элементов в них существенно меньше общего числа элементов в матрице. \n",
    "\n",
    "- Из-за этого вы можете выполнять базовые операции линейной алгебры (прежде всего решать линейные системы) гораздо быстрее по сравнению с использованием плотных матриц."
   ]
  },
  {
   "cell_type": "markdown",
   "id": "e180e559",
   "metadata": {
    "slideshow": {
     "slide_type": "slide"
    }
   },
   "source": [
    "## Что нам необходимо, чтобы увидеть, как это работает\n",
    "\n",
    "- **Вопрос 1:** Как хранить разреженные матрицы в памяти?\n",
    "\n",
    "- **Вопрос 2:** Как умножить разреженную матрицу на вектор быстро?\n",
    "\n",
    "- **Вопрос 3:** Как быстро решать линейные системы с разреженными матрицами?"
   ]
  },
  {
   "cell_type": "markdown",
   "id": "e4e478ca",
   "metadata": {
    "slideshow": {
     "slide_type": "slide"
    }
   },
   "source": [
    "### Хранение разреженных матриц\n",
    "\n",
    "Существет много форматов хранения разреженных матриц, наиболее важные:\n",
    "\n",
    "- COO (координатный формат)\n",
    "- LIL (список списков)\n",
    "- CSR (compressed sparse row)\n",
    "- CSC (compressed sparse column)\n",
    "- блочные варианты\n",
    "\n",
    "В ```scipy``` представлены конструкторы для каждого из этих форматов, например\n",
    "\n",
    "```scipy.sparse.lil_matrix(A)```."
   ]
  },
  {
   "cell_type": "markdown",
   "id": "1fb66665",
   "metadata": {
    "slideshow": {
     "slide_type": "slide"
    }
   },
   "source": [
    "#### Координатный формат (COO)\n",
    "\n",
    "- Простейший формат хранения разреженной матрицы – координатный. \n",
    "- В этом формате разреженная матрица – это набор индексов и значений в этих индексах.\n",
    "\n",
    "```python\n",
    "i, j, val\n",
    "```\n",
    "\n",
    "где ```i, j``` массивы индексов, ```val``` массив элементов матрицы. <br>\n",
    "\n",
    "- Таким образом, нам нужно хранить $3\\cdot$**nnz** элементов, где **nnz** обозначает число ненулевых элементов в матрице.\n",
    "\n",
    "**Q:** Что хорошего и что плохого в использовании такого формата?"
   ]
  },
  {
   "cell_type": "markdown",
   "id": "6b4bdce5",
   "metadata": {
    "slideshow": {
     "slide_type": "slide"
    }
   },
   "source": [
    "#### Основные недостатки\n",
    "\n",
    "- Он неоптимален по памяти (почему?)\n",
    "- Он неоптимален для умножения матрицы на вектор (почему?)\n",
    "- Он неоптимален для удаления элемента (почему?)\n",
    "\n",
    "Первые два недостатка решены в формате CSR."
   ]
  },
  {
   "cell_type": "markdown",
   "id": "28792e6a",
   "metadata": {
    "slideshow": {
     "slide_type": "slide"
    }
   },
   "source": [
    "#### Compressed sparse row (CSR)\n",
    "\n",
    "В формате CSR матрица хранится также с помощью трёх массивов, но других:\n",
    "\n",
    "```python\n",
    "ia, ja, sa\n",
    "```\n",
    "\n",
    "где:\n",
    "\n",
    "- **ia** (начало строк) массив целых чисел длины $n+1$ \n",
    "- **ja** (индексы столбцов) массив целых чисел длины **nnz** \n",
    "-  **sa** (элементы матрицы) массив действительных чисел длины **nnz**\n",
    "\n",
    "<img src=\"https://www.karlrupp.net/wp-content/uploads/2016/02/csr_storage_sparse_marix.png\" width=60% />\n",
    "\n",
    "Итак, всего необходимо хранить $2\\cdot{\\bf nnz} + n+1$ элементов."
   ]
  },
  {
   "cell_type": "markdown",
   "id": "51b74dc7",
   "metadata": {
    "slideshow": {
     "slide_type": "slide"
    }
   },
   "source": [
    "### Разреженные матрицы в PyTorch, Tensorflow и JAX\n",
    "\n",
    "- PyTorch поддерживает разреженные матрицы в формате COO\n",
    "- Неполная поддержка вычисления градиентов в операциях с такими матрицами, список и обсуждение см. [тут](https://github.com/pytorch/pytorch/issues/9674)\n",
    "- Tensorflow также поддерживает разреженные матрицы в COO формате\n",
    "- Список поддерживаемых операций приведён [здесь](https://www.tensorflow.org/api_docs/python/tf/sparse), поддержка вычисления градиентов ограничена\n",
    "- JAX также [экспериментально поддерживает](https://jax.readthedocs.io/en/latest/jax.experimental.sparse.html) некоторые разреженные операции для COO матриц"
   ]
  },
  {
   "cell_type": "markdown",
   "id": "414ecdb4",
   "metadata": {
    "slideshow": {
     "slide_type": "slide"
    }
   },
   "source": [
    "### CSR формат позволяет быстро умножить разреженную матрицу на вектор (SpMV)\n",
    "\n",
    "```python\n",
    "\n",
    "   for i in range(n):\n",
    "        \n",
    "        for k in range(ia[i]:ia[i+1]):\n",
    "            \n",
    "            y[i] += sa[k] * x[ja[k]]\n",
    "```"
   ]
  },
  {
   "cell_type": "code",
   "execution_count": 3,
   "id": "d5e447da",
   "metadata": {
    "slideshow": {
     "slide_type": "slide"
    }
   },
   "outputs": [
    {
     "name": "stdout",
     "output_type": "stream",
     "text": [
      "17.3 ms ± 95.3 µs per loop (mean ± std. dev. of 7 runs, 100 loops each)\n",
      "174 ms ± 3.47 ms per loop (mean ± std. dev. of 7 runs, 1 loop each)\n"
     ]
    }
   ],
   "source": [
    "import numpy as np\n",
    "import scipy as sp\n",
    "import scipy.sparse\n",
    "import scipy.sparse.linalg\n",
    "from scipy.sparse import csc_matrix, csr_matrix, coo_matrix\n",
    "import matplotlib.pyplot as plt\n",
    "%matplotlib inline\n",
    "n = 2000\n",
    "ex = np.ones(n);\n",
    "lp1 = sp.sparse.spdiags(np.vstack((ex,  -2*ex, ex)), [-1, 0, 1], n, n, 'csr'); \n",
    "e = sp.sparse.eye(n)\n",
    "A = sp.sparse.kron(lp1, e) + sp.sparse.kron(e, lp1)\n",
    "A = csr_matrix(A)\n",
    "# Anp = A.toarray()\n",
    "rhs = np.random.randn(n * n)\n",
    "B = coo_matrix(A)\n",
    "%timeit A @ rhs\n",
    "%timeit B.tocsr() @ rhs\n",
    "# %timeit Anp @ rhs"
   ]
  },
  {
   "cell_type": "markdown",
   "id": "a160b64f",
   "metadata": {
    "slideshow": {
     "slide_type": "fragment"
    }
   },
   "source": [
    "Видно, что **CSR** быстрее, и чем менее структурирован шаблон разреженности, тем выше выигрыш в скорости."
   ]
  },
  {
   "cell_type": "markdown",
   "id": "eba59304",
   "metadata": {
    "slideshow": {
     "slide_type": "slide"
    }
   },
   "source": [
    "### Разреженные матрицы и эффективность\n",
    "\n",
    "- Использование разреженных матриц приводит к уменьшению сложности\n",
    "- Но они не очень подходят для параллельных/GPU реализаций \n",
    "- Они не показывают максимальную эффективность из-за случайного доступа к данным.   "
   ]
  },
  {
   "cell_type": "markdown",
   "id": "eb0bf82a",
   "metadata": {
    "slideshow": {
     "slide_type": "slide"
    }
   },
   "source": [
    "### Случайный доступ к данным и промахи в обращении к кешу\n",
    "\n",
    "- Сначала все элементы матрицы и вектора хранятся в оперативной памяти (RAM – Random Access Memory)\n",
    "- После этого CPU берёт данные из кеша, обрабатывает их и возвращает результат снова в кеш\n",
    "- Если CPU требуются данные, которых ещё нет в кеше, это называется промах в обращении к кешу (cache miss)\n",
    "- Если случается промах в обращении к кешу, необходимые данные перемещаются из оперативной памяти в кеш\n",
    "\n",
    "**Q**: что если в кеше нет свободного места?\n",
    "\n",
    "\n",
    "- Чем больше промахов в обращении к кешу, тем медленнее выполняются вычисления"
   ]
  },
  {
   "cell_type": "markdown",
   "id": "7f5d3952",
   "metadata": {
    "slideshow": {
     "slide_type": "slide"
    }
   },
   "source": [
    "#### Умножение матрицы в CSR формате на вектор\n",
    "\n",
    "```python\n",
    "\n",
    "   for i in range(n):\n",
    "        \n",
    "        for k in range(ia[i]:ia[i+1]):\n",
    "            \n",
    "            y[i] += sa[k] * x[ja[k]]\n",
    "            \n",
    "```\n",
    "\n",
    "- Какая часть операций приводит к промахам в обращении к кешу?\n",
    "- Как эту проблему можно решить?"
   ]
  },
  {
   "cell_type": "markdown",
   "id": "a441dda8",
   "metadata": {
    "slideshow": {
     "slide_type": "slide"
    }
   },
   "source": [
    "### Переупорядочивание уменьшает количество промахов в обращении к кешу\n",
    "\n",
    "- Если ```ja``` хранит последовательно элементы, тогда они могут быть перемещены в кеш одновременно и количество промахов в обращении к кешу уменьшится\n",
    "- Так происходит, когда разреженная матрица является **ленточной** или хотя бы блочно-диагональной\n",
    "- Мы можем превратить данную разреженную матрицу в ленточную или блочно-диагональную с помощью *перестановок* \n",
    "\n",
    "- Пусть $P$ матрица перестановок строк матрицы и $Q$ матрица перестановок столбцов матрицы\n",
    "- $A_1 = PAQ$ – матрица с шириной ленты меньшей, чем у матрицы $A$\n",
    "- $y = Ax \\to \\tilde{y} = A_1 \\tilde{x}$, где $\\tilde{x} = Q^{\\top}x$ и $\\tilde{y} = Py$\n",
    "- [Separated block diagonal form](http://albert-jan.yzelman.net/PDFs/yzelman09-rev.pdf) призван минимизировать количество промахов в обращении к кешу\n",
    "- Он также может быть расширен на двумерный случай, где разделяются не только строки, но и столбцы"
   ]
  },
  {
   "cell_type": "markdown",
   "id": "6bf3e455",
   "metadata": {
    "slideshow": {
     "slide_type": "slide"
    }
   },
   "source": [
    "## Методы решения линейных систем с разреженными матрицами\n",
    "\n",
    "- Прямые методы\n",
    "    - LU разложение\n",
    "    - Различные методы переупорядочивания для минимизации заполнения факторов\n",
    "- Крыловские методы"
   ]
  },
  {
   "cell_type": "code",
   "execution_count": 4,
   "id": "56f7cfda",
   "metadata": {
    "slideshow": {
     "slide_type": "fragment"
    }
   },
   "outputs": [
    {
     "name": "stdout",
     "output_type": "stream",
     "text": [
      "32.6 ms ± 2.8 ms per loop (mean ± std. dev. of 7 runs, 10 loops each)\n",
      "4.31 s ± 252 ms per loop (mean ± std. dev. of 7 runs, 1 loop each)\n"
     ]
    },
    {
     "data": {
      "image/png": "[encoded data removed]",
      "text/plain": [
       "<Figure size 640x480 with 2 Axes>"
      ]
     },
     "metadata": {},
     "output_type": "display_data"
    }
   ],
   "source": [
    "n = 100\n",
    "ex = np.ones(n);\n",
    "lp1 = sp.sparse.spdiags(np.vstack((ex,  -2*ex, ex)), [-1, 0, 1], n, n, 'csr'); \n",
    "e = sp.sparse.eye(n)\n",
    "A = sp.sparse.kron(lp1, e) + sp.sparse.kron(e, lp1)\n",
    "A = csr_matrix(A)\n",
    "rhs = np.ones(n * n)\n",
    "sol = sp.sparse.linalg.spsolve(A, rhs)\n",
    "_, (ax1, ax2) = plt.subplots(1, 2)\n",
    "ax1.plot(sol)\n",
    "ax1.set_title('Not reshaped solution')\n",
    "ax2.contourf(sol.reshape((n, n), order='f'))\n",
    "ax2.set_title('Reshaped solution')\n",
    "\n",
    "Anp = A.toarray()\n",
    "%timeit sp.sparse.linalg.spsolve(A, rhs)\n",
    "%timeit np.linalg.solve(Anp, rhs)"
   ]
  },
  {
   "cell_type": "markdown",
   "id": "a575212b",
   "metadata": {
    "slideshow": {
     "slide_type": "slide"
    }
   },
   "source": [
    "## LU разложение разреженной матрицы\n",
    "\n",
    "- Почему разреженная линейная система может быть решена быстрее, чем плотная? С помощью какого метода? \n",
    "\n",
    "- В LU разложении матрицы $A$ факторы $L$ и $U$ могут быть также разреженными:\n",
    "\n",
    "$$A = L U$$\n",
    "\n",
    "- А решение линейной системы с разреженной треугольной матрицей может быть вычислено очень быстро.  \n",
    "\n",
    "<font color='red'> Заметим, что обратная матрица от разреженной матрицы НЕ разрежена! </font>\n"
   ]
  },
  {
   "cell_type": "code",
   "execution_count": 5,
   "id": "4ae79798",
   "metadata": {
    "slideshow": {
     "slide_type": "slide"
    }
   },
   "outputs": [
    {
     "name": "stdout",
     "output_type": "stream",
     "text": [
      "[[-2.  1.  0.  0.  0.  0.  0.]\n",
      " [ 1. -2.  1.  0.  0.  0.  0.]\n",
      " [ 0.  1. -2.  1.  0.  0.  0.]\n",
      " [ 0.  0.  1. -2.  1.  0.  0.]\n",
      " [ 0.  0.  0.  1. -2.  1.  0.]\n",
      " [ 0.  0.  0.  0.  1. -2.  1.]\n",
      " [ 0.  0.  0.  0.  0.  1. -2.]]\n",
      "[[-0.875 -0.75  -0.625 -0.5   -0.375 -0.25  -0.125]\n",
      " [-0.75  -1.5   -1.25  -1.    -0.75  -0.5   -0.25 ]\n",
      " [-0.625 -1.25  -1.875 -1.5   -1.125 -0.75  -0.375]\n",
      " [-0.5   -1.    -1.5   -2.    -1.5   -1.    -0.5  ]\n",
      " [-0.375 -0.75  -1.125 -1.5   -1.875 -1.25  -0.625]\n",
      " [-0.25  -0.5   -0.75  -1.    -1.25  -1.5   -0.75 ]\n",
      " [-0.125 -0.25  -0.375 -0.5   -0.625 -0.75  -0.875]]\n"
     ]
    }
   ],
   "source": [
    "n = 7\n",
    "ex = np.ones(n);\n",
    "a = sp.sparse.spdiags(np.vstack((ex,  -2*ex, ex)), [-1, 0, 1], n, n, 'csr'); \n",
    "b = np.array(np.linalg.inv(a.toarray()))\n",
    "print(a.toarray())\n",
    "print(b)"
   ]
  },
  {
   "cell_type": "markdown",
   "id": "61077cd7",
   "metadata": {
    "slideshow": {
     "slide_type": "slide"
    }
   },
   "source": [
    "## А факторы...\n",
    "\n",
    "- $L$ и $U$ обычно разрежены\n",
    "- В случае трёхдиагональной матрицы они даже бидиагональны!"
   ]
  },
  {
   "cell_type": "code",
   "execution_count": 6,
   "id": "4a9d8865",
   "metadata": {
    "slideshow": {
     "slide_type": "fragment"
    }
   },
   "outputs": [
    {
     "name": "stdout",
     "output_type": "stream",
     "text": [
      "[0 1 2 3 4 5 6] [0 1 2 3 4 5 6]\n"
     ]
    },
    {
     "data": {
      "image/png": "[encoded data removed]",
      "text/plain": [
       "<Figure size 640x480 with 1 Axes>"
      ]
     },
     "metadata": {},
     "output_type": "display_data"
    }
   ],
   "source": [
    "from scipy.sparse.linalg import splu\n",
    "T = splu(a.tocsc(), permc_spec=\"NATURAL\")\n",
    "plt.spy(T.L)\n",
    "print(T.perm_r, T.perm_c)"
   ]
  },
  {
   "cell_type": "markdown",
   "id": "c8ee9c61",
   "metadata": {
    "slideshow": {
     "slide_type": "slide"
    }
   },
   "source": [
    "Отметим, что ```splu``` со значением параметра ```permc_spec``` по умолчанию даёт перестановку, которая не даёт бидиагональные факторы:"
   ]
  },
  {
   "cell_type": "code",
   "execution_count": 7,
   "id": "37818379",
   "metadata": {
    "slideshow": {
     "slide_type": "fragment"
    }
   },
   "outputs": [
    {
     "name": "stdout",
     "output_type": "stream",
     "text": [
      "[0 1 2 3 5 4 6] [0 1 2 3 5 4 6]\n"
     ]
    },
    {
     "data": {
      "image/png": "[encoded data removed]",
      "text/plain": [
       "<Figure size 640x480 with 1 Axes>"
      ]
     },
     "metadata": {},
     "output_type": "display_data"
    }
   ],
   "source": [
    "from scipy.sparse.linalg import splu\n",
    "T = splu(a.tocsc())\n",
    "plt.spy(T.L)\n",
    "print(T.perm_c, T.perm_r)"
   ]
  },
  {
   "cell_type": "markdown",
   "id": "72de606f",
   "metadata": {
    "slideshow": {
     "slide_type": "slide"
    }
   },
   "source": [
    "## Двумерный случай\n",
    "\n",
    "В двумерном случае всё гораздо хуже:"
   ]
  },
  {
   "cell_type": "code",
   "execution_count": 8,
   "id": "f7e1303e",
   "metadata": {
    "slideshow": {
     "slide_type": "fragment"
    }
   },
   "outputs": [
    {
     "data": {
      "text/plain": [
       "<matplotlib.lines.Line2D at 0x1215858e0>"
      ]
     },
     "execution_count": 8,
     "metadata": {},
     "output_type": "execute_result"
    },
    {
     "data": {
      "image/png": "[encoded data removed]",
      "text/plain": [
       "<Figure size 640x480 with 1 Axes>"
      ]
     },
     "metadata": {},
     "output_type": "display_data"
    }
   ],
   "source": [
    "n = 256\n",
    "ex = np.ones(n);\n",
    "lp1 = sp.sparse.spdiags(np.vstack((ex,  -2*ex, ex)), [-1, 0, 1], n, n, 'csr'); \n",
    "e = sp.sparse.eye(n)\n",
    "A = sp.sparse.kron(lp1, e) + sp.sparse.kron(e, lp1)\n",
    "A = csc_matrix(A)\n",
    "T = scipy.sparse.linalg.splu(A)\n",
    "plt.spy(T.L, marker='.', color='k', markersize=8)"
   ]
  },
  {
   "cell_type": "markdown",
   "id": "55c0b653",
   "metadata": {
    "slideshow": {
     "slide_type": "slide"
    }
   },
   "source": [
    "## Особенности реализации LU разложения для разреженных матриц\n",
    "\n",
    "- В случае плотной матрицы перестановки обеспечивали устойчивость вычислений и отсутствие деления на маленькие по модулю числа\n",
    "- В разреженном случае к этому добавляется требование разреженности факторов\n",
    "- Эти два условия часто бывают противоречивыми, поэтому в параметрах функции ```scipy.sparse.linalg.splu``` присуствуют различные стратегии перестановок - параметр ```permc_spec```"
   ]
  },
  {
   "cell_type": "markdown",
   "id": "61b9a005",
   "metadata": {
    "slideshow": {
     "slide_type": "slide"
    }
   },
   "source": [
    "## Главное в сегодняшней лекции\n",
    "\n",
    "- Разреженные матрицы, приложения и форматы их хранения\n",
    "- Эффективные способы умножения разреженной матрицы на вектор\n",
    "- LU разложение разреженной матрицы: заполнение и перестановки строк"
   ]
  }
 ],
 "metadata": {
  "celltoolbar": "Slideshow",
  "kernelspec": {
   "display_name": "Python 3 (ipykernel)",
   "language": "python",
   "name": "python3"
  },
  "language_info": {
   "codemirror_mode": {
    "name": "ipython",
    "version": 3
   },
   "file_extension": ".py",
   "mimetype": "text/x-python",
   "name": "python",
   "nbconvert_exporter": "python",
   "pygments_lexer": "ipython3",
   "version": "3.9.13"
  }
 },
 "nbformat": 4,
 "nbformat_minor": 5
}
