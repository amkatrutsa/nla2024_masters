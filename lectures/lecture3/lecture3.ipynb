{
 "cells": [
  {
   "cell_type": "markdown",
   "id": "5142ee74",
   "metadata": {
    "slideshow": {
     "slide_type": "slide"
    }
   },
   "source": [
    "# Лекция 3. Матричные нормы и унитарные матрицы"
   ]
  },
  {
   "cell_type": "markdown",
   "id": "794abf5b",
   "metadata": {
    "slideshow": {
     "slide_type": "slide"
    }
   },
   "source": [
    "## На прошлом занятии\n",
    "\n",
    "- Векторы и векторные нормы\n",
    "- Использование первой нормы в задаче compressed sensing\n",
    "- Устойчивость алгоритмов (прямая и обратная)"
   ]
  },
  {
   "cell_type": "markdown",
   "id": "8a144b48",
   "metadata": {
    "slideshow": {
     "slide_type": "slide"
    }
   },
   "source": [
    "## Матрицы и матричные нормы\n",
    "\n",
    "- Векторные нормы позволяли измерить размер вектора и расстояние между векторами\n",
    "\n",
    "- Как обобщить эту концепцию на матрицы?\n",
    "\n",
    "- Если считать матрицу вектором, элементы которого переставлены в другом порядке, то мы по аналогии с евклидовой нормой вектора получим фробениусову норму матрицы:\n",
    "\n",
    "$$\n",
    "  \\Vert A \\Vert_F \\stackrel{\\mathrm{def}}{=} \\Big(\\sum_{i=1}^n \\sum_{j=1}^m |a_{ij}|^2\\Big)^{1/2}\n",
    "$$"
   ]
  },
  {
   "cell_type": "markdown",
   "id": "c89a498d",
   "metadata": {
    "slideshow": {
     "slide_type": "slide"
    }
   },
   "source": [
    "## Матричные нормы\n",
    "\n",
    "$\\Vert \\cdot \\Vert$ называется матричной нормой, если это векторная норма на векторном пространстве матриц размера $n \\times m$:\n",
    "1. $\\|A\\| \\geq 0$ и если $\\|A\\| = 0$ то $A = O$\n",
    "3. $\\|\\alpha A\\| = |\\alpha| \\|A\\|$\n",
    "4. $\\|A+B\\| \\leq \\|A\\| + \\|B\\|$ (неравенство треугольника)\n",
    "\n",
    "Дополнительно некоторые нормы обладают свойством субмультипликативности\n",
    "\n",
    "* <font color='red'> $\\Vert A B \\Vert \\leq \\Vert A \\Vert \\Vert B \\Vert$ </font>\n",
    "\n",
    "Эти нормы также называются **субмультипликативными нормами**.\n",
    "\n",
    "Это свойство необходимо во многих случаях, например для оценки ошибки решения линейной системы (позднее обсудим эту тему). \n",
    "\n",
    "Примером не субмультипликативной нормы является чебышёвская норма\n",
    "\n",
    "$$\n",
    "\\|A\\|_C = \\displaystyle{\\max_{i,j}}\\, |a_{ij}|\n",
    "$$"
   ]
  },
  {
   "cell_type": "markdown",
   "id": "7b4398ca",
   "metadata": {
    "slideshow": {
     "slide_type": "slide"
    }
   },
   "source": [
    "## Операторные нормы\n",
    "\n",
    "Наиболее важным классом матричных норм являются **операторные нормы**, которые определяются следующим образом\n",
    "\n",
    "$$\n",
    "    \\Vert A \\Vert_{*,**} = \\sup_{x \\ne 0} \\frac{\\Vert A x \\Vert_*}{\\Vert x \\Vert_{**}},\n",
    "$$\n",
    "\n",
    "где $\\Vert \\cdot \\Vert_*$ и $\\| \\cdot \\|_{**}$ **векторные нормы**.\n",
    "\n",
    "Легко проверить, что операторные нормы являются субмультипликативными."
   ]
  },
  {
   "cell_type": "markdown",
   "id": "35a22ece",
   "metadata": {
    "slideshow": {
     "slide_type": "slide"
    }
   },
   "source": [
    "## Матричные $p$-нормы\n",
    "\n",
    "Важный класс операторных норм – матричные $p$-нормы, которые определены для $\\|\\cdot\\|_* = \\|\\cdot\\|_{**} = \\|\\cdot\\|_p$. <br>\n",
    "\n",
    "Среди всех $p$-норм три нормы наиболее часто используются:  \n",
    "\n",
    "- $p = 1, \\quad \\Vert A \\Vert_{1} = \\displaystyle{\\max_j \\sum_{i=1}^n} |a_{ij}|$.\n",
    "\n",
    "- $p = 2, \\quad$ спектральная норма, обозначается как $\\Vert A \\Vert_2$.\n",
    "\n",
    "- $p = \\infty, \\quad \\Vert A \\Vert_{\\infty} = \\displaystyle{\\max_i \\sum_{j=1}^m} |a_{ij}|$."
   ]
  },
  {
   "cell_type": "markdown",
   "id": "8e467251",
   "metadata": {
    "slideshow": {
     "slide_type": "slide"
    }
   },
   "source": [
    "## Спектральная норма\n",
    "\n",
    "- Спектральная норма, $\\Vert A \\Vert_2$, одна из наиболее часто используемых, наряду с нормой Фробениуса\n",
    "- Она не может быть вычислена напрямую через элементы матрицы, но для её вычисления существуют эффективные алгоритмы\n",
    "- Она напрямую связана с сингулярным разложением матрицы (SVD) поскольку выполнено следующее равенство\n",
    "\n",
    "$$\n",
    "   \\Vert A \\Vert_2 = \\sigma_1(A) = \\sqrt{\\lambda_\\max(A^*A)}\n",
    "$$\n",
    "\n",
    "где $\\sigma_1(A)$ – максимальное сингулярное число матрицы $A$. \n",
    "\n",
    "- Подробнее про SVD будет рассказано далее, а сейчас давайте вычислим все вышеупомянутые нормы"
   ]
  },
  {
   "cell_type": "code",
   "execution_count": 5,
   "id": "20ef4683",
   "metadata": {
    "slideshow": {
     "slide_type": "slide"
    }
   },
   "outputs": [
    {
     "name": "stdout",
     "output_type": "stream",
     "text": [
      "Spectral: 19.54312605521002 \n",
      "Frobenius: 99.09062756034918 \n",
      "1-norm: 94.67206933546186 \n",
      "infinity: 94.90491842710985\n"
     ]
    }
   ],
   "source": [
    "import numpy as np\n",
    "n = 100\n",
    "m = 100\n",
    "a = np.random.randn(n, m) # Random n x m matrix\n",
    "s1 = np.linalg.norm(a, 2) # Spectral\n",
    "s2 = np.linalg.norm(a, 'fro') # Frobenius\n",
    "s3 = np.linalg.norm(a, 1) # 1-norm\n",
    "s4 = np.linalg.norm(a, np.inf) \n",
    "print('Spectral: {0:} \\nFrobenius: {1:} \\n1-norm: {2:} \\ninfinity: {3:}'.format(s1, s2, s3, s4))"
   ]
  },
  {
   "cell_type": "markdown",
   "id": "82afc99b",
   "metadata": {
    "slideshow": {
     "slide_type": "slide"
    }
   },
   "source": [
    "## Примеры\n",
    "\n",
    "Несколько примеров задач оптимизации, в которых необходимы матричные нормы:\n",
    "* <font color='red'> $\\displaystyle{\\min_{\\mathrm{rank}(A_r)=r}}\\| A - A_r\\|$ </font> – задача нахождения наилучшей малоранговой аппроксимации матрицы $A$. SVD помогает решить эту задачу для спектральной нормы $\\|\\cdot\\|_2$ и фробениусовой нормы $\\|\\cdot\\|_F$.\n",
    "\n",
    "\n",
    "* $\\displaystyle{\\min_B}\\| P_\\Omega \\odot(A - B)\\| + \\lambda \\cdot \\mathrm{rank}(B)$ –– задача заполнения матрицы (matrix completion problem). \n",
    "$$\n",
    "(P_\\Omega)_{ij} = \\begin{cases} 1 & i,j\\in\\Omega \\\\ 0 & \\text{otherwise} \\end{cases}\n",
    "$$\n",
    "$\\odot$ обозначает произведение Адамара (поэлементное)\n",
    "\n",
    "\n",
    "* $\\displaystyle{\\min_{B\\geq 0,C\\geq 0}} \\|A - BC\\|$ –– неотрицательное матричное разложение (nonnegative matrix factorization). Запись $B\\geq0$ означает, что все элементы $B$ неотрицательны."
   ]
  },
  {
   "cell_type": "markdown",
   "id": "98232b3e",
   "metadata": {
    "slideshow": {
     "slide_type": "slide"
    }
   },
   "source": [
    "## Скалярное произведение\n",
    "\n",
    "Если норма помогает измерять расстояние, то **скалярное произведение** позволяет учесть угол между объектами.  \n",
    "\n",
    "Скалярное произведение определено\n",
    "\n",
    "* **для векторов:**\n",
    "$$\n",
    "   (x, y) =  x^{\\top} y = \\sum_{i=1}^n x_i y_i.\n",
    "$$\n",
    "Тогда евклидова норма записывается как\n",
    "$$\n",
    "   \\Vert x \\Vert_2 = \\sqrt{(x, x)};\n",
    "$$  \n",
    "\n",
    "\n",
    "* **для матриц**:\n",
    "$$\n",
    "    (A, B)_F = \\displaystyle{\\sum_{i=1}^{n}\\sum_{j=1}^{m}} a_{ij} b_{ij} \\equiv \\mathrm{trace}(A^{\\top} B),\n",
    "$$\n",
    "где $\\mathrm{trace}(A)$ обозначает след матрицы, то есть сумму диагональных элементов. \n",
    "\n",
    "**Упражнение:** покажите, что $\\|A\\|_F = \\sqrt{(A, A)_F}$."
   ]
  },
  {
   "cell_type": "markdown",
   "id": "a3501970",
   "metadata": {
    "slideshow": {
     "slide_type": "slide"
    }
   },
   "source": [
    "**Замечание**. Угол между векторами или матрицами определяется как\n",
    "\n",
    "$$\n",
    "   \\cos \\phi = \\frac{(x, y)}{\\Vert x \\Vert_2 \\Vert y \\Vert_2}.\n",
    "$$"
   ]
  },
  {
   "cell_type": "markdown",
   "id": "100d0067",
   "metadata": {
    "slideshow": {
     "slide_type": "slide"
    }
   },
   "source": [
    "### Операция ```einsum``` и как её ускорить\n",
    "\n",
    "- Поиск оптимального порядка суммирования – NP-сложная задача\n",
    "- Используются разные эвристики: жадные алгоритмы, динамическое программирование и другие\n",
    "- Пакет [```opt-einsum```](https://optimized-einsum.readthedocs.io/en/stable/index.html) содержит реализации некоторых подходов к поиску суб-оптимального решения\n",
    "- На основе этой операции строят вероятностные модели и архитектуры нейросетей. [Пример такой модели](http://proceedings.mlr.press/v119/peharz20a/peharz20a.pdf)"
   ]
  },
  {
   "cell_type": "code",
   "execution_count": 43,
   "id": "5ab1b97b",
   "metadata": {
    "slideshow": {
     "slide_type": "slide"
    }
   },
   "outputs": [
    {
     "name": "stdout",
     "output_type": "stream",
     "text": [
      "134 µs ± 13 µs per loop (mean ± std. dev. of 7 runs, 10,000 loops each)\n",
      "212 µs ± 306 ns per loop (mean ± std. dev. of 7 runs, 1,000 loops each)\n",
      "82.6 µs ± 3.49 µs per loop (mean ± std. dev. of 7 runs, 10,000 loops each)\n"
     ]
    }
   ],
   "source": [
    "import numpy as np\n",
    "n = 100\n",
    "m = 100\n",
    "A = np.array(np.random.randn(m, n), dtype=np.float64, order=\"C\")\n",
    "B = np.array(np.random.randn(n, m), dtype=np.float64, order=\"C\")\n",
    "# print(np.linalg.norm(A @ B - np.einsum(\"ij,jk->ik\", A, B, optimize=True), \"fro\"))\n",
    "# print(np.linalg.norm(A @ B - np.einsum(\"ij,jk->ik\", A, B), \"fro\"))\n",
    "%timeit np.einsum(\"ij,jk->ik\", A, B, optimize=True)\n",
    "%timeit np.einsum(\"ij,jk->ik\", A, B)\n",
    "%timeit A @ B\n",
    "# y = np.einsum(\"ij->i\", A)\n",
    "# print(np.linalg.norm(y - np.sum(A, 1)))\n",
    "# y = np.einsum(\"ii\", A)\n",
    "# print(np.linalg.norm(y - np.diag(A)))"
   ]
  },
  {
   "cell_type": "markdown",
   "id": "bed7d298",
   "metadata": {
    "slideshow": {
     "slide_type": "slide"
    }
   },
   "source": [
    "## Матрицы, сохраняющие норму\n",
    "\n",
    "- Для устойчивости вычислений необходимо, чтобы ошибка не возростала после применения некоторого преобразования. Найдём эти преобразования. \n",
    "\n",
    "- Пусть дан вектор $\\widehat{x}$ – аппроксимация вектора $x$ такая что,  \n",
    "\n",
    "$$\n",
    "  \\frac{\\Vert x - \\widehat{x} \\Vert}{\\Vert x \\Vert} \\leq \\varepsilon.\n",
    "$$\n",
    "\n",
    "- Вычислим образ векторов $x$ и $\\widehat{x}$ после применения линейного преобразования $U$:  \n",
    "\n",
    "$$\n",
    "   y = U x, \\quad \\widehat{y} = U \\widehat{x}.\n",
    "$$\n",
    "\n",
    "- Для построения алгоритмов необходимо использовать преобразования, которые не увеличивают (или даже сохраняют) ошибку:\n",
    "\n",
    "$$\n",
    "   \\frac{\\Vert y - \\widehat{y} \\Vert}{\\Vert y \\Vert } = \\frac{\\Vert U ( x - \\widehat{x}) \\Vert}{\\Vert U  x\\Vert}  \\leq \\varepsilon.\n",
    "$$"
   ]
  },
  {
   "cell_type": "markdown",
   "id": "a18124e6",
   "metadata": {
    "slideshow": {
     "slide_type": "slide"
    }
   },
   "source": [
    "Вопрос состоит в том, какой класс матриц не меняет норму вектора после умножения матрицы из этого класса на вектор?\n",
    "\n",
    "$$\n",
    "\\frac{\\Vert U ( x - \\widehat{x}) \\Vert}{\\Vert U  x\\Vert} = \\frac{ \\|x - \\widehat{x}\\|}{\\|x\\|}.\n",
    "$$\n",
    "\n",
    "Для евклидовой нормы $\\|\\cdot\\|_2$ таким свойством обладают **унитарные** (или ортогональные) матрицы."
   ]
  },
  {
   "cell_type": "markdown",
   "id": "f5248429",
   "metadata": {
    "slideshow": {
     "slide_type": "slide"
    }
   },
   "source": [
    "## Унитарные (ортогональные) матрицы\n",
    "\n",
    "Пусть $U$ комплексная $n \\times n$ матрица, и $\\Vert U z \\Vert_2 = \\Vert z \\Vert_2$ для всех $z$. \n",
    "\n",
    "Это выполнено тогда и только тогда, когда\n",
    "\n",
    "$$\n",
    "   U^* U = I_n,\n",
    "$$\n",
    "\n",
    "где $I_n$ единичная матрица $n\\times n$, и $[A^*]_{ij} = \\bar{a}_{ji}$\n",
    "\n",
    "Комплексная $n\\times n$ квадратная матрица называется **унитарной** если\n",
    "\n",
    "$$\n",
    "    U^*U = UU^* = I_n,\n",
    "$$\n",
    "\n",
    "что означает, что столбцы и строки матрицы образуют базис в $\\mathbb{C}^{n}$."
   ]
  },
  {
   "cell_type": "markdown",
   "id": "af251d71",
   "metadata": {
    "slideshow": {
     "slide_type": "slide"
    }
   },
   "source": [
    "## Свойство ортогональных матриц\n",
    "\n",
    "Произведение двух унитарных матриц – унитарная матрица:  \n",
    "\n",
    "$$(UV)^* UV = V^* (U^* U) V = V^* V = I,$$\n",
    "\n",
    "- Позже мы покажем, что существуют классы унитарных матриц, произведение которых может дать произвольную унитарную матрицу \n",
    "- Эта идея лежит в основе некоторых алгоритмов, например вычисления QR разложения"
   ]
  },
  {
   "cell_type": "markdown",
   "id": "c355115e",
   "metadata": {
    "slideshow": {
     "slide_type": "slide"
    }
   },
   "source": [
    "## Примеры  унитарных матриц\n",
    "\n",
    "Два важных класса унитарных матриц, произведение которых может дать любую унитарную матрицу:\n",
    "1. Матрицы Хаусхолдера\n",
    "2. Матрицы Гивенса\n",
    "\n",
    "Этот факт станет очевидным после того, как мы рассмотрим QR разложение и способы его вычисления.\n",
    "\n",
    "Другие важные примеры\n",
    "* **матрица перестановки** $P$ строки (столбцы) которой получены перестановкой строк (столбцов) единичной матрицы.\n",
    "* **матрица Фурье** $F_n = \\frac{1}{\\sqrt{n}} \\left\\{ e^{-i\\frac{2\\pi kl}{n}}\\right\\}_{k,l=0}^{n-1}$"
   ]
  },
  {
   "cell_type": "markdown",
   "id": "ec74b8fd",
   "metadata": {
    "slideshow": {
     "slide_type": "slide"
    }
   },
   "source": [
    "## Матрица Хаусхолдера\n",
    "\n",
    "Матрица Хаусхолдера – это матрица вида \n",
    "\n",
    "$$H \\equiv H(v) = I - 2 vv^*,$$\n",
    "\n",
    "где $v$ – $n \\times 1$ вектор и $v^* v = 1$. Покажите, что $H$ унитарна и Эрмитова. Это также матрица отражения относительно плоскости с нормалью $v$:\n",
    "\n",
    "$$ Hx = x - 2(v^* x) v$$\n",
    "\n",
    "<img src=\"./householder.jpeg\" width=1000>  "
   ]
  },
  {
   "cell_type": "markdown",
   "id": "7f4e3762",
   "metadata": {
    "slideshow": {
     "slide_type": "slide"
    }
   },
   "source": [
    "## Важное свойство матрицы Хаусхолдера\n",
    "\n",
    "Преобразование Хаусхолдера может занулить все элементы в столбце матрицы, кроме первого:\n",
    "\n",
    "$$\n",
    "    H \\begin{bmatrix} \\times \\\\ \\times \\\\ \\times \\\\ \\times  \\end{bmatrix} = \n",
    "      \\begin{bmatrix} \\times \\\\ 0 \\\\ 0 \\\\ 0  \\end{bmatrix}.\n",
    "$$\n",
    "\n",
    "Давайте это докажем."
   ]
  },
  {
   "cell_type": "code",
   "execution_count": 66,
   "id": "0b8398ca",
   "metadata": {
    "slideshow": {
     "slide_type": "slide"
    }
   },
   "outputs": [
    {
     "name": "stdout",
     "output_type": "stream",
     "text": [
      "[-0.68515384  0.03368868  0.06772699  0.10247701  0.2312519   0.05983039\n",
      "  0.06850281  0.14420034 -0.00712753  0.08670278 -0.0726527  -0.06521639\n",
      " -0.00691629  0.05845469 -0.06481227 -0.08838688 -0.10240387  0.02515298\n",
      " -0.03900254  0.04010711  0.01571433  0.07227055 -0.0339231   0.10692959\n",
      "  0.19840116  0.00351241  0.05848899 -0.03112935 -0.05896545  0.00837231\n",
      " -0.09353555  0.09144633 -0.15097321 -0.03425636  0.08711461  0.21966118\n",
      " -0.00289042  0.01145576  0.10634791  0.03597448  0.07482901 -0.23144853\n",
      " -0.05186572  0.23621136  0.03529744  0.13185652 -0.03567384  0.03396172\n",
      "  0.03916537 -0.26400153]\n",
      "0.9999999999999999\n",
      "[ 6.97461517e+00 -3.47372493e-17 -2.95088900e-18  2.05965085e-16\n",
      "  7.17002606e-17 -6.58695114e-18  2.94658986e-17 -7.01788856e-18\n",
      " -2.45637116e-17  1.23426444e-16 -9.23928226e-17 -7.07311727e-17\n",
      " -1.26142503e-17 -1.35277699e-16 -2.95833311e-17  1.97906985e-16\n",
      " -2.36230502e-17 -3.68651198e-17 -7.38798488e-17  6.59801666e-17\n",
      "  3.75073896e-17  2.19725260e-16 -1.70128105e-17 -8.28303189e-17\n",
      "  1.68884402e-17  3.98603813e-18 -1.05123899e-16 -3.15916151e-17\n",
      "  5.05093035e-17  2.41412354e-18  4.13307427e-17  1.19051775e-16\n",
      " -2.99126738e-19 -3.32183179e-17 -1.56739328e-17  3.14724604e-16\n",
      " -5.00879078e-18  8.44008976e-18  3.41783447e-17 -3.27188191e-17\n",
      "  5.30202386e-17 -1.48254024e-16 -4.47596016e-18  2.42455629e-16\n",
      " -2.95878012e-18  7.89422975e-17  2.68039263e-17  1.61862872e-17\n",
      "  4.46595812e-17  2.05249439e-16]\n",
      "6.974615171669475\n",
      "6.974615171669475\n",
      "1.21 µs ± 27.5 ns per loop (mean ± std. dev. of 7 runs, 1,000,000 loops each)\n",
      "2.48 µs ± 57.8 ns per loop (mean ± std. dev. of 7 runs, 100,000 loops each)\n"
     ]
    }
   ],
   "source": [
    "n = 50\n",
    "x = np.random.randn(n)\n",
    "\n",
    "v = x.copy()\n",
    "norm_x = np.linalg.norm(x)\n",
    "v[0] -= norm_x\n",
    "v /= np.sqrt(2 * (norm_x**2 - x[0] * (norm_x)))\n",
    "print(v)\n",
    "print(np.linalg.norm(v))\n",
    "H = np.eye(n) - 2 * np.outer(v, v)\n",
    "y = H @ x\n",
    "print(y)\n",
    "print(y[0])\n",
    "print(np.linalg.norm(y, 2))\n",
    "\n",
    "%timeit H @ x\n",
    "%timeit x - 2 * v * np.inner(v, x)"
   ]
  },
  {
   "cell_type": "markdown",
   "id": "16be4aed",
   "metadata": {
    "slideshow": {
     "slide_type": "slide"
    }
   },
   "source": [
    "## Матрица Гивенса\n",
    "\n",
    "Матрица Гивенса имеет вид\n",
    "\n",
    "$$\n",
    "    G = \\begin{bmatrix}\n",
    "          \\cos \\alpha & -\\sin \\alpha \\\\\n",
    "          \\sin \\alpha & \\cos \\alpha\n",
    "        \\end{bmatrix},\n",
    "$$\n",
    "\n",
    "что является поворотом на угол $\\alpha$ на плоскости. В общем случае, выберем две плоскости $(i, j)$ и повернём вектор $x$  \n",
    "\n",
    "$$\n",
    "x' = G x,\n",
    "$$\n",
    "\n",
    "только в $i$-ой и $j$-ой координатах:\n",
    "\n",
    "$$\n",
    "    x'_i =  x_i\\cos \\alpha - x_j\\sin \\alpha , \\quad x'_j = x_i \\sin \\alpha  +  x_j\\cos\\alpha,\n",
    "$$\n",
    "\n",
    "и оставим остальные координаты $x_i$ неизменными.\n",
    "\n",
    "Поэтому мы можем занулить элемент в позиции $j$, если выберем $\\alpha$ так что\n",
    "\n",
    "$$\n",
    "     \\cos \\alpha = \\frac{x_i}{\\sqrt{x_i^2 + x_j^2}}, \\quad \\sin \\alpha = -\\frac{x_j}{\\sqrt{x_i^2 + x_j^2}}\n",
    "$$"
   ]
  },
  {
   "cell_type": "code",
   "execution_count": 68,
   "id": "af73b2b5",
   "metadata": {
    "slideshow": {
     "slide_type": "slide"
    }
   },
   "outputs": [
    {
     "data": {
      "text/plain": [
       "(-1.0, 1.0)"
      ]
     },
     "execution_count": 68,
     "metadata": {},
     "output_type": "execute_result"
    },
    {
     "data": {
      "image/png": "[encoded data removed]",
      "text/plain": [
       "<Figure size 640x480 with 1 Axes>"
      ]
     },
     "metadata": {},
     "output_type": "display_data"
    }
   ],
   "source": [
    "import numpy as np\n",
    "import matplotlib.pyplot as plt\n",
    "%matplotlib inline\n",
    "\n",
    "alpha = -3*np.pi / 4\n",
    "G = np.array([\n",
    "    [np.cos(alpha), -np.sin(alpha)],\n",
    "    [np.sin(alpha), np.cos(alpha)]\n",
    "])\n",
    "x = np.array([-1./np.sqrt(2), 1./np.sqrt(2)])\n",
    "y = G.dot(x)\n",
    "\n",
    "plt.quiver([0, 0], [0, 0], [x[0], y[0]], [x[1], y[1]], angles='xy', scale_units='xy', scale=1)\n",
    "plt.xlim(-1., 1.)\n",
    "plt.ylim(-1., 1.)"
   ]
  },
  {
   "cell_type": "markdown",
   "id": "6e9115c1",
   "metadata": {
    "slideshow": {
     "slide_type": "slide"
    }
   },
   "source": [
    "## Промежуточный итог\n",
    "\n",
    "- Матрицы и матричные нормы\n",
    "- Унитарные (ортогональные) матрицы\n",
    "- Примеры унитарных матриц: матрицы отражений (Хаусхолдера) и поворота (Гивенса)"
   ]
  }
 ],
 "metadata": {
  "celltoolbar": "Slideshow",
  "kernelspec": {
   "display_name": "Python 3 (ipykernel)",
   "language": "python",
   "name": "python3"
  },
  "language_info": {
   "codemirror_mode": {
    "name": "ipython",
    "version": 3
   },
   "file_extension": ".py",
   "mimetype": "text/x-python",
   "name": "python",
   "nbconvert_exporter": "python",
   "pygments_lexer": "ipython3",
   "version": "3.9.13"
  }
 },
 "nbformat": 4,
 "nbformat_minor": 5
}
