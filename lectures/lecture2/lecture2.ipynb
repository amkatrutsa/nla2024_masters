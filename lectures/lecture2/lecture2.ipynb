{
 "cells": [
  {
   "cell_type": "markdown",
   "id": "3337b38d",
   "metadata": {
    "slideshow": {
     "slide_type": "slide"
    }
   },
   "source": [
    "# Лекция 2. Векторы и векторные нормы. Устойчивость алгоритмов"
   ]
  },
  {
   "cell_type": "markdown",
   "id": "9d49ee41",
   "metadata": {
    "slideshow": {
     "slide_type": "slide"
    }
   },
   "source": [
    "## Что обсудили в прошлый раз\n",
    "\n",
    "- Форматы представления чисел в компьютере\n",
    "- Нюансы вычислений с числами в формате плавающей точки\n",
    "- Накопление ошибок в процессе вычислений\n",
    "- Алгоритмы суммирования\n",
    "- Влияние форматов хранения чисел на работу с нейросетями "
   ]
  },
  {
   "cell_type": "markdown",
   "id": "eb58f964",
   "metadata": {
    "slideshow": {
     "slide_type": "slide"
    }
   },
   "source": [
    "## План на сегодня\n",
    "\n",
    "- Векторы и что с ними можно делать\n",
    "- Матрицы и что можно делать с ними\n",
    "- Базовые операции - введение\n",
    "- Устойчивость алгоритмов: прямая vs обратная\n",
    "- Нормы для векторов и матриц: как определить, вычислить и где применяются "
   ]
  },
  {
   "cell_type": "markdown",
   "id": "46680868",
   "metadata": {
    "slideshow": {
     "slide_type": "slide"
    }
   },
   "source": [
    "## Векторы\n",
    "\n",
    "- В рамках курса, мы будем работать не с числами, а с векторами\n",
    "- Вектор в фиксированном базисе размера $n$ может быть представлен как одномерный массив из $n$ чисел.\n",
    "- Обычно вектор рассматривается, как матрица $n \\times 1$, то есть вектор-столбец\n",
    "\n",
    "**Примеры:** \n",
    "- Многочлены степени $\\leq n$ образуют линейное пространство.\n",
    "- Многочлен $ x^3 - 2x^2 + 1$ может быть представлен в виду вектора $\\begin{bmatrix}1 \\\\ -2 \\\\ 0 \\\\ 1\\end{bmatrix}$ в базисе $\\{x^3, x^2, x, 1\\}$"
   ]
  },
  {
   "cell_type": "code",
   "execution_count": 6,
   "id": "bf9e443d",
   "metadata": {
    "slideshow": {
     "slide_type": "slide"
    }
   },
   "outputs": [
    {
     "name": "stdout",
     "output_type": "stream",
     "text": [
      "[ 0.35244297 -0.34565308 -0.41707431 -0.78268048 -0.32675677 -2.02271392\n",
      "  0.41683243  0.17034591  0.41901353 -0.71582572]\n",
      "[1. 1. 1. 1. 1. 1. 1. 1. 1. 1.]\n",
      "[0. 0. 0. 0. 0. 0. 0. 0. 0. 0.]\n",
      "[0. 0. 0. 0. 0. 0. 0. 0. 0. 0.]\n",
      "(10,)\n",
      "0.0\n",
      "(10, 1)\n",
      "[[0.]]\n"
     ]
    }
   ],
   "source": [
    "import numpy as np\n",
    "\n",
    "n = 10\n",
    "xr = np.array(np.random.randn(n), dtype=np.float64)\n",
    "print(xr)\n",
    "x = np.ones(n)\n",
    "print(x)\n",
    "x = np.zeros(n)\n",
    "print(x)\n",
    "x = np.zeros_like(xr)\n",
    "print(x)\n",
    "print(x.shape)\n",
    "print(x @ x)\n",
    "y = x[:, np.newaxis]\n",
    "print(y.shape)\n",
    "print(y.T @ y)"
   ]
  },
  {
   "cell_type": "code",
   "execution_count": 11,
   "id": "ea205f6c",
   "metadata": {
    "slideshow": {
     "slide_type": "slide"
    }
   },
   "outputs": [
    {
     "name": "stdout",
     "output_type": "stream",
     "text": [
      "69.5 µs ± 5.34 µs per loop (mean ± std. dev. of 7 runs, 10,000 loops each)\n",
      "1.24 µs ± 1.64 ns per loop (mean ± std. dev. of 7 runs, 1,000,000 loops each)\n"
     ]
    }
   ],
   "source": [
    "# import numba\n",
    "# from numba.typed import List\n",
    "\n",
    "def naive_scal(x, y):\n",
    "    val = 0\n",
    "    for i in range(len(x)):\n",
    "        val += x[i] * y[i]\n",
    "    return val\n",
    "\n",
    "\n",
    "# @jit(nopython=True)\n",
    "# def naive_scal_numba(x, y):\n",
    "#     val = 0\n",
    "#     for i in range(len(x)):\n",
    "#         val += x[i] * y[i]\n",
    "#     return val\n",
    "\n",
    "import random\n",
    "n = 1000\n",
    "x = [random.random() for i in range(n)]\n",
    "y = [random.random() for i in range(n)]\n",
    "# typed_x = List()\n",
    "# typed_y = List()\n",
    "# [typed_x.append(xi) for xi in x]\n",
    "# [typed_y.append(x) for x in y]\n",
    "%timeit naive_scal(x, y)\n",
    "# %timeit naive_scal_numba(typed_x, typed_y)\n",
    "xnp = np.array(x)\n",
    "ynp = np.array(y)\n",
    "%timeit xnp @ ynp"
   ]
  },
  {
   "cell_type": "markdown",
   "id": "01dc79fd",
   "metadata": {
    "slideshow": {
     "slide_type": "slide"
    }
   },
   "source": [
    "## Векторные нормы\n",
    "\n",
    "- Векторы обычно содержат приближённое описание физических или каких-нибудь других объектов\n",
    "\n",
    "- Один из главных вопросов – это насколько приближение точное (1%, 10%)\n",
    "\n",
    "- Что является достаточно точным представлением объектов, конечно, зависит от конкретного приложения. Например:\n",
    "    - При решении уравнений в частных производных чаще всего встречается точность порядка $10^{-5} - 10^{-10}$\n",
    "    - Текущие приложения нейросетей к решению уравнений в частных производных часто дают точность $10^{-3} - 10^{-4}$. Графики ниже из [этой](https://arxiv.org/pdf/2006.11894.pdf) работы\n",
    "    <img src=\"pinns_loss.png\">\n",
    "    - В приложениях, связанных с обработкой данных, иногда точность порядка $80\\%$ приемлема при серьёзном зашумлении исходных данных."
   ]
  },
  {
   "cell_type": "markdown",
   "id": "311ad1ac",
   "metadata": {
    "slideshow": {
     "slide_type": "slide"
    }
   },
   "source": [
    "## Расстояния и нормы\n",
    "\n",
    "- Норма – это количественная мера малости вектора, обычно обознается как $\\Vert x \\Vert$.\n",
    "\n",
    "Норма должна удовлетворять следующим свойствам:\n",
    "\n",
    "- $\\Vert \\alpha x \\Vert = |\\alpha| \\Vert x \\Vert$\n",
    "- $\\Vert x + y \\Vert \\leq \\Vert x \\Vert + \\Vert y \\Vert$ (неравенство треугольника)\n",
    "- Если $\\Vert x \\Vert = 0$, то $x = 0$\n",
    "\n",
    "Расстояние между двумя векторами можно определить как норму разности между ними\n",
    "\n",
    "$$\n",
    "   d(x, y) = \\Vert x - y \\Vert.\n",
    "$$"
   ]
  },
  {
   "cell_type": "markdown",
   "id": "6df3e66f",
   "metadata": {
    "slideshow": {
     "slide_type": "slide"
    }
   },
   "source": [
    "## Стандартные нормы\n",
    "\n",
    "Наиболее известная и чаще всего используемая норма – это **евклидова норма**:\n",
    "\n",
    "$$\\Vert x \\Vert_2 = \\sqrt{\\sum_{i=1}^n |x_i|^2},$$\n",
    "\n",
    "расстояние, по которой соответствует расстоянию в реальном мире. Если векторы состоят из комплексных чисел, используются их модули.\n",
    "\n",
    "- $j^2 = -1$\n",
    "-  $x_i = a + jb$\n",
    "- $\\bar{x}_i = a - jb$\n",
    "- $|x_i|^2 = \\bar{x}_i x_i = a^2 + b^2$"
   ]
  },
  {
   "cell_type": "markdown",
   "id": "f5aa9dfc",
   "metadata": {
    "slideshow": {
     "slide_type": "slide"
    }
   },
   "source": [
    "## $p$-норма\n",
    "\n",
    "Евклидова норма или $2$-норма – это частный случай важного класса $p$-норм:\n",
    "\n",
    "$$\n",
    " \\Vert x \\Vert_p = \\Big(\\sum_{i=1}^n |x_i|^p\\Big)^{1/p}.\n",
    "$$\n",
    "\n",
    "Также важны следующие два частных случая :\n",
    "- Бесконечная норма или Чебышёвская норма определяется как максимальный модуль элемента вектора $x$: \n",
    "\n",
    "$$\n",
    "\\Vert x \\Vert_{\\infty} = \\max_i | x_i|\n",
    "$$\n",
    "\n",
    "<img src=\"chebyshev.jpeg\" style=\"height\">\n",
    "\n",
    "- $L_1$ норма определяется как сумма модулей элементов вектора $x$: \n",
    "\n",
    "$$\n",
    "\\Vert x \\Vert_1 = \\sum_i |x_i|\n",
    "$$\n",
    "\n",
    "Расстояние, определённое как $L_1$ норма разности между векторами, называется **Манхэттенским расстоянием**\n",
    "\n",
    "<img src=\"manhattan.jpeg\" style=\"height\">  \n"
   ]
  },
  {
   "cell_type": "markdown",
   "id": "3bfc782b",
   "metadata": {
    "slideshow": {
     "slide_type": "slide"
    }
   },
   "source": [
    "## Эквивалентность норм\n",
    "\n",
    "Все нормы эквивалентны в следующем смысле\n",
    "\n",
    "$$\n",
    "   C_1 \\Vert x \\Vert_* \\leq  \\Vert x \\Vert_{**} \\leq C_2 \\Vert x \\Vert_*\n",
    "$$  \n",
    "\n",
    "для некоторых положительных констант $C_1(n), C_2(n)$, $x \\in \\mathbb{R}^n$ для любых пар норм $\\Vert \\cdot \\Vert_*$ и $\\Vert \\cdot \\Vert_{**}$. Эквивалентность норм означает, что если некоторый вектор мал в одной норме, то он мал и в другой норме. Однако константы могут быть большими."
   ]
  },
  {
   "cell_type": "markdown",
   "id": "e8725cf3",
   "metadata": {
    "slideshow": {
     "slide_type": "slide"
    }
   },
   "source": [
    "## Вычисление норм в Python\n",
    "\n",
    "Пакет NumPy содержит всё необходимое для вычисления норм: функция ```np.linalg.norm```.\n"
   ]
  },
  {
   "cell_type": "code",
   "execution_count": 12,
   "id": "de616deb",
   "metadata": {
    "slideshow": {
     "slide_type": "fragment"
    }
   },
   "outputs": [
    {
     "name": "stdout",
     "output_type": "stream",
     "text": [
      "Relative error in L1 norm: 0.0008439308325114425\n",
      "Relative error in L2 norm: 0.0010230258411658192\n",
      "Relative error in Chebyshev norm: 0.003048896972493597\n"
     ]
    }
   ],
   "source": [
    "import numpy as np\n",
    "n = 100\n",
    "a = np.ones(n)\n",
    "b = a + 1e-3 * np.random.randn(n)\n",
    "print('Relative error in L1 norm:', np.linalg.norm(a - b, 1) / np.linalg.norm(b, 1))\n",
    "print('Relative error in L2 norm:', np.linalg.norm(a - b) / np.linalg.norm(b))\n",
    "print('Relative error in Chebyshev norm:', np.linalg.norm(a - b, np.inf) / np.linalg.norm(b, np.inf))"
   ]
  },
  {
   "cell_type": "markdown",
   "id": "e0b78894",
   "metadata": {
    "slideshow": {
     "slide_type": "slide"
    }
   },
   "source": [
    "## Единичные диски в различных нормах\n",
    "\n",
    "- Единичный диск – это множество точек такое что $\\Vert x \\Vert \\leq 1$\n",
    "- Для евклидовой нормы единичный диск сопадает с обычным диском\n",
    "- Для других норм единичный диск сильно отличается от привычного нам диска"
   ]
  },
  {
   "cell_type": "code",
   "execution_count": 23,
   "id": "987a2851",
   "metadata": {
    "scrolled": false,
    "slideshow": {
     "slide_type": "fragment"
    }
   },
   "outputs": [
    {
     "data": {
      "text/plain": [
       "Text(0.5, 1.0, 'Unit disk in the p-th norm, $p=2$')"
      ]
     },
     "execution_count": 23,
     "metadata": {},
     "output_type": "execute_result"
    },
    {
     "data": {
      "image/png": "[encoded data removed]",
      "text/plain": [
       "<Figure size 640x480 with 1 Axes>"
      ]
     },
     "metadata": {},
     "output_type": "display_data"
    }
   ],
   "source": [
    "%matplotlib inline\n",
    "import matplotlib.pyplot as plt\n",
    "import numpy as np\n",
    "p = 2 # Which norm do we use\n",
    "M = 40000 # Number of sampling points\n",
    "a = np.random.randn(M, 2)\n",
    "b = []\n",
    "for i in range(M):\n",
    "    if np.linalg.norm(a[i, :], p) <= 1:\n",
    "        b.append(a[i, :])\n",
    "b = np.array(b)\n",
    "plt.plot(b[:, 0], b[:, 1], '.')\n",
    "plt.axis('equal')\n",
    "plt.title('Unit disk in the p-th norm, $p={0:}$'.format(p))"
   ]
  },
  {
   "cell_type": "markdown",
   "id": "f794d6c2",
   "metadata": {
    "slideshow": {
     "slide_type": "slide"
    }
   },
   "source": [
    "## Почему $L_1$ норма может быть важна?\n",
    "\n",
    "$L_1$ норма играет важную роль в задаче **compressed sensing**. \n",
    "\n",
    "Простейшая формулировка этой задачи следующая:\n",
    "\n",
    "- Даны некоторые наблюдения $f$ \n",
    "- Известно, что модель получения наблюдений линейная $Ax = f$, где $A$ – это $n \\times m$ известная матрица\n",
    "- Число уравнений $n$ меньше, чем число неизвестных $m$\n",
    "\n",
    "**Q**: можем ли мы найти решение такой системы?"
   ]
  },
  {
   "cell_type": "markdown",
   "id": "b3c8f5f2",
   "metadata": {
    "slideshow": {
     "slide_type": "fragment"
    }
   },
   "source": [
    "Решение, очевидно, не единственно, поэтому естественный подход – это искать решение минимальное в некотором смысле:\n",
    "\n",
    "\\begin{align*}\n",
    "& \\Vert x \\Vert \\rightarrow \\min_x \\\\\n",
    "\\mbox{subject to } & Ax = f\n",
    "\\end{align*}\n",
    "\n",
    "- Выбор стандартной евклидовой нормы $\\Vert x \\Vert = \\Vert x \\Vert_2$ приводит к **линейной задаче наименьших квадратов**  \n",
    "\n",
    "- Выбор первой нормы $\\Vert x \\Vert = \\Vert x \\Vert_1$ приводит к задаче [**compressed sensing**](https://en.wikipedia.org/wiki/Compressed_sensing)\n",
    "- Обычно решение этой задачи является наиболее **разреженным** (sparse) решением данной системы \n",
    "- Basis pursuit - eщё одно название задачи \n",
    "\n",
    "\\begin{align*}\n",
    "& \\Vert x \\Vert_1 \\rightarrow \\min_x \\\\\n",
    "\\mbox{s.t. } & Ax = f\n",
    "\\end{align*}\n"
   ]
  },
  {
   "cell_type": "markdown",
   "id": "d3594a7e",
   "metadata": {
    "slideshow": {
     "slide_type": "slide"
    }
   },
   "source": [
    "### Условие RIP\n",
    "\n",
    "- s-restricted isometry property (RIP) выполнено для матрицы $A \\in \\mathbb{R}^{m \\times n}$, если существует $\\delta_s \\in (0, 1)$ такая что для любой подматрицы $A_s \\in \\mathbb{R}^{m \\times s}$ выполнено\n",
    "\n",
    "$$ (1 - \\delta_s)\\|y\\|_2^2 \\leq \\|A_s y\\|_2^2 \\leq (1 + \\delta_s) \\|y\\|_2^2  $$\n",
    "\n",
    "- Показано, что с высокой вероятностью такое условие выполнено для случайных матриц\n",
    "\n",
    "- Связь между RIP-условием и решением задачи минимизации $\\ell_1$-нормы показана [тут](https://onlinelibrary.wiley.com/doi/abs/10.1002/cpa.20124?casa_token=Oi_lDpUt4nYAAAAA:IPceNxxhCcFEth6EuuDJO-YVfg5xJmT4xUmTLZDkoL02aYzg2SMcAV13dJAkA11WWw3xmThkoYcHZGlr)"
   ]
  },
  {
   "cell_type": "code",
   "execution_count": 86,
   "id": "f714708f",
   "metadata": {
    "scrolled": false,
    "slideshow": {
     "slide_type": "slide"
    }
   },
   "outputs": [
    {
     "name": "stdout",
     "output_type": "stream",
     "text": [
      "===============================================================================\n",
      "                                     CVXPY                                     \n",
      "                                     v1.2.2                                    \n",
      "===============================================================================\n",
      "(CVXPY) Sep 16 09:59:15 PM: Your problem has 20 variables, 1 constraints, and 0 parameters.\n",
      "(CVXPY) Sep 16 09:59:15 PM: It is compliant with the following grammars: DCP, DQCP\n",
      "(CVXPY) Sep 16 09:59:15 PM: (If you need to solve this problem multiple times, but with different data, consider using parameters.)\n",
      "(CVXPY) Sep 16 09:59:15 PM: CVXPY will first compile your problem; then, it will invoke a numerical solver to obtain a solution.\n",
      "-------------------------------------------------------------------------------\n",
      "                                  Compilation                                  \n",
      "-------------------------------------------------------------------------------\n",
      "(CVXPY) Sep 16 09:59:15 PM: Compiling problem (target solver=MOSEK).\n",
      "(CVXPY) Sep 16 09:59:15 PM: Reduction chain: Dcp2Cone -> CvxAttr2Constr -> ConeMatrixStuffing -> MOSEK\n",
      "(CVXPY) Sep 16 09:59:15 PM: Applying reduction Dcp2Cone\n",
      "(CVXPY) Sep 16 09:59:15 PM: Applying reduction CvxAttr2Constr\n",
      "(CVXPY) Sep 16 09:59:15 PM: Applying reduction ConeMatrixStuffing\n",
      "(CVXPY) Sep 16 09:59:15 PM: Applying reduction MOSEK\n",
      "(CVXPY) Sep 16 09:59:15 PM: Finished problem compilation (took 1.038e-02 seconds).\n",
      "-------------------------------------------------------------------------------\n",
      "                                Numerical solver                               \n",
      "-------------------------------------------------------------------------------\n",
      "(CVXPY) Sep 16 09:59:15 PM: Invoking solver MOSEK  to obtain a solution.\n",
      "\n",
      "\n",
      "(CVXPY) Sep 16 09:59:15 PM: Problem\n",
      "(CVXPY) Sep 16 09:59:15 PM:   Name                   :                 \n",
      "(CVXPY) Sep 16 09:59:15 PM:   Objective sense        : maximize        \n",
      "(CVXPY) Sep 16 09:59:15 PM:   Type                   : LO (linear optimization problem)\n",
      "(CVXPY) Sep 16 09:59:15 PM:   Constraints            : 40              \n",
      "(CVXPY) Sep 16 09:59:15 PM:   Affine conic cons.     : 0               \n",
      "(CVXPY) Sep 16 09:59:15 PM:   Disjunctive cons.      : 0               \n",
      "(CVXPY) Sep 16 09:59:15 PM:   Cones                  : 0               \n",
      "(CVXPY) Sep 16 09:59:15 PM:   Scalar variables       : 50              \n",
      "(CVXPY) Sep 16 09:59:15 PM:   Matrix variables       : 0               \n",
      "(CVXPY) Sep 16 09:59:15 PM:   Integer variables      : 0               \n",
      "(CVXPY) Sep 16 09:59:15 PM: \n",
      "(CVXPY) Sep 16 09:59:15 PM: Optimizer started.\n",
      "(CVXPY) Sep 16 09:59:15 PM: Presolve started.\n",
      "(CVXPY) Sep 16 09:59:15 PM: Linear dependency checker started.\n",
      "(CVXPY) Sep 16 09:59:15 PM: Linear dependency checker terminated.\n",
      "(CVXPY) Sep 16 09:59:15 PM: Eliminator started.\n",
      "(CVXPY) Sep 16 09:59:15 PM: Freed constraints in eliminator : 20\n",
      "(CVXPY) Sep 16 09:59:15 PM: Eliminator terminated.\n",
      "(CVXPY) Sep 16 09:59:15 PM: Eliminator started.\n",
      "(CVXPY) Sep 16 09:59:15 PM: Freed constraints in eliminator : 0\n",
      "(CVXPY) Sep 16 09:59:15 PM: Eliminator terminated.\n",
      "(CVXPY) Sep 16 09:59:15 PM: Eliminator - tries                  : 2                 time                   : 0.00            \n",
      "(CVXPY) Sep 16 09:59:15 PM: Lin. dep.  - tries                  : 1                 time                   : 0.00            \n",
      "(CVXPY) Sep 16 09:59:15 PM: Lin. dep.  - number                 : 0               \n",
      "(CVXPY) Sep 16 09:59:15 PM: Presolve terminated. Time: 0.00    \n",
      "(CVXPY) Sep 16 09:59:15 PM: Problem\n",
      "(CVXPY) Sep 16 09:59:15 PM:   Name                   :                 \n",
      "(CVXPY) Sep 16 09:59:15 PM:   Objective sense        : maximize        \n",
      "(CVXPY) Sep 16 09:59:15 PM:   Type                   : LO (linear optimization problem)\n",
      "(CVXPY) Sep 16 09:59:15 PM:   Constraints            : 40              \n",
      "(CVXPY) Sep 16 09:59:15 PM:   Affine conic cons.     : 0               \n",
      "(CVXPY) Sep 16 09:59:15 PM:   Disjunctive cons.      : 0               \n",
      "(CVXPY) Sep 16 09:59:15 PM:   Cones                  : 0               \n",
      "(CVXPY) Sep 16 09:59:15 PM:   Scalar variables       : 50              \n",
      "(CVXPY) Sep 16 09:59:15 PM:   Matrix variables       : 0               \n",
      "(CVXPY) Sep 16 09:59:15 PM:   Integer variables      : 0               \n",
      "(CVXPY) Sep 16 09:59:15 PM: \n",
      "(CVXPY) Sep 16 09:59:15 PM: Optimizer  - threads                : 8               \n",
      "(CVXPY) Sep 16 09:59:15 PM: Optimizer  - solved problem         : the dual        \n",
      "(CVXPY) Sep 16 09:59:15 PM: Optimizer  - Constraints            : 10\n",
      "(CVXPY) Sep 16 09:59:15 PM: Optimizer  - Cones                  : 0\n",
      "(CVXPY) Sep 16 09:59:15 PM: Optimizer  - Scalar variables       : 40                conic                  : 0               \n",
      "(CVXPY) Sep 16 09:59:15 PM: Optimizer  - Semi-definite variables: 0                 scalarized             : 0               \n",
      "(CVXPY) Sep 16 09:59:15 PM: Factor     - setup time             : 0.00              dense det. time        : 0.00            \n",
      "(CVXPY) Sep 16 09:59:15 PM: Factor     - ML order time          : 0.00              GP order time          : 0.00            \n",
      "(CVXPY) Sep 16 09:59:15 PM: Factor     - nonzeros before factor : 55                after factor           : 55              \n",
      "(CVXPY) Sep 16 09:59:15 PM: Factor     - dense dim.             : 0                 flops                  : 2.62e+03        \n",
      "(CVXPY) Sep 16 09:59:15 PM: ITE PFEAS    DFEAS    GFEAS    PRSTATUS   POBJ              DOBJ              MU       TIME  \n",
      "(CVXPY) Sep 16 09:59:15 PM: 0   1.8e-01  2.8e+00  1.7e+01  0.00e+00   1.013926895e+00   1.784559166e+01   3.9e-01  0.00  \n",
      "(CVXPY) Sep 16 09:59:15 PM: 1   2.7e-02  4.1e-01  2.6e+00  5.26e-01   6.462007805e+00   9.628000507e+00   5.8e-02  0.01  \n",
      "(CVXPY) Sep 16 09:59:15 PM: 2   9.1e-04  1.4e-02  8.5e-02  9.40e-01   6.963747296e+00   7.071398818e+00   1.9e-03  0.01  \n",
      "(CVXPY) Sep 16 09:59:15 PM: 3   8.0e-05  1.2e-03  7.5e-03  9.93e-01   6.997959581e+00   7.007514422e+00   1.7e-04  0.01  \n",
      "(CVXPY) Sep 16 09:59:15 PM: 4   3.0e-05  4.6e-04  2.9e-03  9.56e-01   7.000442310e+00   7.004106694e+00   6.4e-05  0.01  \n",
      "(CVXPY) Sep 16 09:59:15 PM: 5   3.2e-06  4.8e-05  3.0e-04  9.80e-01   7.001953638e+00   7.002342219e+00   6.7e-06  0.01  \n",
      "(CVXPY) Sep 16 09:59:15 PM: 6   1.3e-06  2.0e-05  1.2e-04  9.97e-01   7.002024423e+00   7.002186609e+00   2.8e-06  0.01  \n",
      "(CVXPY) Sep 16 09:59:15 PM: 7   1.7e-07  2.6e-06  1.6e-05  9.92e-01   7.002096208e+00   7.002117040e+00   3.6e-07  0.01  \n",
      "(CVXPY) Sep 16 09:59:15 PM: 8   1.6e-09  2.4e-08  1.5e-07  1.00e+00   7.002105532e+00   7.002105720e+00   3.3e-09  0.01  \n",
      "(CVXPY) Sep 16 09:59:15 PM: 9   1.6e-13  5.7e-11  9.1e-11  1.00e+00   7.002105611e+00   7.002105611e+00   3.3e-13  0.02  \n",
      "(CVXPY) Sep 16 09:59:15 PM: Optimizer terminated. Time: 0.02    \n",
      "(CVXPY) Sep 16 09:59:15 PM: \n",
      "(CVXPY) Sep 16 09:59:15 PM: \n",
      "(CVXPY) Sep 16 09:59:15 PM: Interior-point solution summary\n",
      "(CVXPY) Sep 16 09:59:15 PM:   Problem status  : PRIMAL_AND_DUAL_FEASIBLE\n",
      "(CVXPY) Sep 16 09:59:15 PM:   Solution status : OPTIMAL\n",
      "(CVXPY) Sep 16 09:59:15 PM:   Primal.  obj: 7.0021056109e+00    nrm: 1e+00    Viol.  con: 1e-13    var: 0e+00  \n",
      "(CVXPY) Sep 16 09:59:15 PM:   Dual.    obj: 7.0021056110e+00    nrm: 8e+00    Viol.  con: 0e+00    var: 2e-10  \n",
      "-------------------------------------------------------------------------------\n",
      "                                    Summary                                    \n",
      "-------------------------------------------------------------------------------\n",
      "(CVXPY) Sep 16 09:59:15 PM: Problem status: optimal\n",
      "(CVXPY) Sep 16 09:59:15 PM: Optimal value: 7.002e+00\n",
      "(CVXPY) Sep 16 09:59:15 PM: Compilation took 1.038e-02 seconds\n",
      "(CVXPY) Sep 16 09:59:15 PM: Solver (including time spent in interface) took 2.783e-02 seconds\n",
      "[ 7.88256905e-13 -3.99936416e+00 -2.76691873e-04  1.66849519e-12\n",
      " -2.81923178e-04  3.86303253e-13  4.60770734e-04  1.68877458e-13\n",
      " -1.46056265e-12  3.45029359e-04  3.00020048e+00 -3.63221596e-13\n",
      " -6.26214731e-14  8.57733275e-14  1.18779802e-05  5.23146884e-05\n",
      " -4.81843259e-13  2.77789982e-04 -8.34578113e-04  2.11319366e-12]\n",
      "2\n",
      "[ 0.         -3.99936416  0.          0.          0.          0.\n",
      "  0.          0.          0.          0.          3.00020048  0.\n",
      "  0.          0.          0.          0.          0.          0.\n",
      "  0.          0.        ]\n",
      "0.004436008918150501\n"
     ]
    },
    {
     "data": {
      "image/png": "[encoded data removed]",
      "text/plain": [
       "<Figure size 640x480 with 1 Axes>"
      ]
     },
     "metadata": {},
     "output_type": "display_data"
    }
   ],
   "source": [
    "import cvxpy as cp\n",
    "import numpy as np\n",
    "import matplotlib.pyplot as plt\n",
    "\n",
    "n = 10\n",
    "A = np.random.randn(n, 2*n)\n",
    "# x_true = np.random.randn(2*n)\n",
    "x_true = np.zeros(2*n)\n",
    "x_true[1] = -4\n",
    "x_true[10] = 3\n",
    "eps = 1e-3\n",
    "b = A @ x_true + eps * np.random.randn(n)\n",
    "\n",
    "x = cp.Variable(2*n)\n",
    "problem = cp.Problem(cp.Minimize(cp.norm(x, 1)), [A @ x == b])\n",
    "problem.solve(verbose=True)\n",
    "print(x.value)\n",
    "plt.plot(abs(x.value))\n",
    "plt.yscale(\"log\")\n",
    "x_approx = x.value.copy()\n",
    "x_approx[np.abs(x_approx) < 1e-3] = 0\n",
    "print(np.sum(x_approx != 0))\n",
    "print(x_approx)\n",
    "print(np.linalg.norm(A @ x_approx - b))"
   ]
  },
  {
   "cell_type": "markdown",
   "id": "97ab64f2",
   "metadata": {
    "slideshow": {
     "slide_type": "slide"
    }
   },
   "source": [
    "## Всегда ли минимизация $\\ell_1$-нормы будет давать разреженное решение?"
   ]
  },
  {
   "cell_type": "code",
   "execution_count": 46,
   "id": "52e4ef5b",
   "metadata": {
    "slideshow": {
     "slide_type": "slide"
    }
   },
   "outputs": [
    {
     "name": "stdout",
     "output_type": "stream",
     "text": [
      "[[ 1.0000005e+00 -9.9999950e-01  1.0000000e+00  0.0000000e+00\n",
      "   0.0000000e+00  0.0000000e+00  0.0000000e+00  0.0000000e+00\n",
      "   0.0000000e+00  0.0000000e+00  0.0000000e+00  0.0000000e+00]\n",
      " [-9.9999950e-01  1.0000005e+00  0.0000000e+00  1.0000000e+00\n",
      "   0.0000000e+00  0.0000000e+00  0.0000000e+00  0.0000000e+00\n",
      "   0.0000000e+00  0.0000000e+00  0.0000000e+00  0.0000000e+00]\n",
      " [ 5.0000000e-07  5.0000000e-07  0.0000000e+00  0.0000000e+00\n",
      "   1.0000000e+00  0.0000000e+00  0.0000000e+00  0.0000000e+00\n",
      "   0.0000000e+00  0.0000000e+00  0.0000000e+00  0.0000000e+00]\n",
      " [ 5.0000000e-07  5.0000000e-07  0.0000000e+00  0.0000000e+00\n",
      "   0.0000000e+00  1.0000000e+00  0.0000000e+00  0.0000000e+00\n",
      "   0.0000000e+00  0.0000000e+00  0.0000000e+00  0.0000000e+00]\n",
      " [ 5.0000000e-07  5.0000000e-07  0.0000000e+00  0.0000000e+00\n",
      "   0.0000000e+00  0.0000000e+00  1.0000000e+00  0.0000000e+00\n",
      "   0.0000000e+00  0.0000000e+00  0.0000000e+00  0.0000000e+00]\n",
      " [ 5.0000000e-07  5.0000000e-07  0.0000000e+00  0.0000000e+00\n",
      "   0.0000000e+00  0.0000000e+00  0.0000000e+00  1.0000000e+00\n",
      "   0.0000000e+00  0.0000000e+00  0.0000000e+00  0.0000000e+00]\n",
      " [ 5.0000000e-07  5.0000000e-07  0.0000000e+00  0.0000000e+00\n",
      "   0.0000000e+00  0.0000000e+00  0.0000000e+00  0.0000000e+00\n",
      "   1.0000000e+00  0.0000000e+00  0.0000000e+00  0.0000000e+00]\n",
      " [ 5.0000000e-07  5.0000000e-07  0.0000000e+00  0.0000000e+00\n",
      "   0.0000000e+00  0.0000000e+00  0.0000000e+00  0.0000000e+00\n",
      "   0.0000000e+00  1.0000000e+00  0.0000000e+00  0.0000000e+00]\n",
      " [ 5.0000000e-07  5.0000000e-07  0.0000000e+00  0.0000000e+00\n",
      "   0.0000000e+00  0.0000000e+00  0.0000000e+00  0.0000000e+00\n",
      "   0.0000000e+00  0.0000000e+00  1.0000000e+00  0.0000000e+00]\n",
      " [ 5.0000000e-07  5.0000000e-07  0.0000000e+00  0.0000000e+00\n",
      "   0.0000000e+00  0.0000000e+00  0.0000000e+00  0.0000000e+00\n",
      "   0.0000000e+00  0.0000000e+00  0.0000000e+00  1.0000000e+00]]\n",
      "[2.69496325e-18 2.69496022e-18 1.00000000e+00 1.00000000e+00\n",
      " 1.00000000e+00 1.00000000e+00 1.00000000e+00 1.00000000e+00\n",
      " 1.00000000e+00 1.00000000e+00 1.00000000e+00 1.00000000e+00]\n",
      "10.0\n",
      "1.6463612699567982e-10\n",
      "2000000.0\n"
     ]
    },
    {
     "data": {
      "text/plain": [
       "5.0000000000287555e-06"
      ]
     },
     "execution_count": 46,
     "metadata": {},
     "output_type": "execute_result"
    }
   ],
   "source": [
    "import cvxpy as cp\n",
    "import numpy as np\n",
    "\n",
    "n = 10\n",
    "A = np.zeros((n, n+2))\n",
    "eps = 1e-6\n",
    "A[:, 2:] = np.eye(n)\n",
    "A[:, 0] = eps / 2\n",
    "A[0, 0] += 1\n",
    "A[1, 0] += -1\n",
    "A[:, 1] = eps / 2\n",
    "A[1, 1] += 1\n",
    "A[0, 1] += -1\n",
    "b = np.ones(n)\n",
    "print(A)\n",
    "\n",
    "x = cp.Variable(n+2)\n",
    "problem = cp.Problem(cp.Minimize(cp.norm(x, 1)), [A @ x == b])\n",
    "problem.solve()\n",
    "print(x.value)\n",
    "print(np.linalg.norm(x.value, 1))\n",
    "x_sparse = np.zeros(n+2)\n",
    "x_sparse[0] = 1 / eps\n",
    "x_sparse[1] = 1 / eps\n",
    "print(np.linalg.norm(A @ x_sparse - b))\n",
    "print(np.linalg.norm(x_sparse, 1))\n",
    "A[:, 1] @ b"
   ]
  },
  {
   "cell_type": "markdown",
   "id": "c405d76a",
   "metadata": {
    "slideshow": {
     "slide_type": "slide"
    }
   },
   "source": [
    "## Что такое устойчивый алгоритм?\n",
    "\n",
    "Введём понятия **устойчивости** алгоритма.\n",
    "\n",
    "- Пусть $x$ некоторый объект, с которым производят операции (например, вектор)\n",
    "- Пусть $y = f(x)$ функция от этого объекта, которую необходимо вычислить, $y$ - точное значение\n",
    "- Пусть $\\hat{y} = alg(x)$ результат вычисления функции $f$ с помощью алгоритма $alg$, который вносит ошибку в результат.\n",
    "\n",
    "Теперь определим два типа ошибок: прямую и обратную.\n",
    "\n",
    "- Прямой ошибкой вычисления $\\hat{y}$ будем называть число $\\left| \\frac{\\hat{y} - y}{y} \\right|$\n",
    "\n",
    "- Обратной ошибкой для $\\hat{y}$ будем называть величину \n",
    "\n",
    "$$ \\min_{\\Delta x} \\frac{\\| \\Delta x \\|}{ \\|x \\|} :\\quad \\hat{y} = f(x + \\Delta x)$$ \n",
    "\n",
    "- Алгоритм alg называется **backward stable**, если обратная ошибка всегда мала относительно машинной точности\n",
    "\n",
    "- Если алгоритм backward stable, то это означает, что ошибки порождённые им соразмерны с погрешностями входных данных\n",
    "\n",
    "<img src=\"./alg_stable.png\" width=700>\n",
    "\n",
    "Диаграмма взята [отсюда](https://nhigham.com/2020/08/04/what-is-numerical-stability/)\n",
    "\n",
    "- Прямая и обратная ошибка связаны соотношением\n",
    "\n",
    "$$ \\left| \\frac{\\hat{y} - y}{y} \\right| \\leq cond_f(x) \\frac{\\| \\Delta x \\|}{ \\|x \\|}, $$\n",
    "\n",
    "где \n",
    "\n",
    "$$ cond_f(x) = \\lim_{\\varepsilon \\to 0} \\sup_{\\| \\Delta x \\| \\leq \\varepsilon \\|x\\|} \\frac{|f(x + \\Delta x) - f(x)|}{\\varepsilon |f(x)|} $$\n",
    "\n",
    "число обусловленности отображения $f$\n",
    "\n",
    "- Алгоритм называется **forward stable** если это соотношение справедливо для любого входного аргумента $x$.\n",
    "\n",
    "- Для линейных отображений получим замкнутое выражение для числа обусловленности матрицы позднее в курсе\n",
    "\n",
    "- Если алгоритм является **backward stable**, то он и **forward stable**.\n",
    "\n",
    "- Контрпример для обратного следствия далее..."
   ]
  },
  {
   "cell_type": "markdown",
   "id": "54483014",
   "metadata": {
    "slideshow": {
     "slide_type": "slide"
    }
   },
   "source": [
    "## Классический пример\n",
    "\n",
    "Классическим примером для демонстрации (не)устойчивости алгоритма является задача решения системы линейных уравнений с помощью метода Гаусса, который связан с вычислением LU разложения матрицы (подробности будут далее).\n",
    "\n",
    "Рассмотрим **матрицу Гильберта** с элементами\n",
    "\n",
    "$$A = \\{a_{ij}\\}, \\quad a_{ij} = \\frac{1}{i + j + 1}, \\quad i,j = 0, \\ldots, n-1.$$\n",
    "\n",
    "и соответствующую линейную систему с этой матрицей\n",
    "\n",
    "$$Ax = f.$$\n",
    "\n",
    "- Попробуем решить эту систему с помощью встроенной функции ```np.linalg.solve``` \n",
    "- Вычислим норму невязки $\\|A\\hat{x} - f\\|_2$\n",
    "- Связь между нормой невязки и обратной ошибкой мы обсудим в лекции про линейные системы..."
   ]
  },
  {
   "cell_type": "code",
   "execution_count": 84,
   "id": "d032f830",
   "metadata": {
    "scrolled": false,
    "slideshow": {
     "slide_type": "slide"
    }
   },
   "outputs": [
    {
     "name": "stdout",
     "output_type": "stream",
     "text": [
      "18\n",
      "36.56812005949078\n"
     ]
    }
   ],
   "source": [
    "import numpy as np\n",
    "n = 100\n",
    "a = [[1.0/(i + j + 1) for i in range(n)] for j in range(n)] # Hilbert matrix\n",
    "A = np.array(a)\n",
    "rhs =  np.random.random(n)\n",
    "sol = np.linalg.solve(A, rhs)\n",
    "print(np.linalg.norm(z - ))\n",
    "print(np.linalg.norm(A.dot(sol) - rhs)/np.linalg.norm(rhs))\n",
    "#plt.plot(sol)"
   ]
  },
  {
   "cell_type": "code",
   "execution_count": 85,
   "id": "e0e760bc",
   "metadata": {
    "slideshow": {
     "slide_type": "slide"
    }
   },
   "outputs": [
    {
     "name": "stdout",
     "output_type": "stream",
     "text": [
      "1.4706170310348663e-07\n"
     ]
    }
   ],
   "source": [
    "rhs =  np.ones(n)\n",
    "sol = np.linalg.solve(A, rhs)\n",
    "print(np.linalg.norm(A.dot(sol) - rhs)/np.linalg.norm(rhs))\n",
    "#plt.plot(sol)"
   ]
  },
  {
   "cell_type": "markdown",
   "id": "18798211",
   "metadata": {
    "slideshow": {
     "slide_type": "slide"
    }
   },
   "source": [
    "## Отсутствие обратной устойчивости в нейросетях\n",
    "\n",
    "- Анализ обратных ошибок и их использование для построения состязательных атак (adversarial attacks) рассмотрено [тут](https://ut3-toulouseinp.hal.science/hal-03296180/document)\n",
    "- Если нейросеть обладает обратной устойчивостью, то её сложнее атаковать\n",
    "- Это повышает уверенность в её безопаности и надёжности"
   ]
  },
  {
   "cell_type": "markdown",
   "id": "950cd5ea",
   "metadata": {
    "slideshow": {
     "slide_type": "slide"
    }
   },
   "source": [
    "## Другие примеры неустойчивости\n",
    "\n",
    "Какой вычислительно устойчивый способ вычисления следующих функций?\n",
    "\n",
    "- $\\log(1 - \\tanh^2(x))$\n",
    "- $SoftMax(x)_j = \\dfrac{e^{x_j}}{\\sum\\limits_{i=1}^n e^{x_i}}$  "
   ]
  },
  {
   "cell_type": "code",
   "execution_count": 27,
   "id": "ffef1f2f",
   "metadata": {
    "slideshow": {
     "slide_type": "slide"
    }
   },
   "outputs": [
    {
     "name": "stdout",
     "output_type": "stream",
     "text": [
      "Original function: -inf\n",
      "Attempt imporove stability with add small constant: -13.815510557964274\n",
      "Use more numerically stable form: -598.6137056388801\n"
     ]
    },
    {
     "name": "stderr",
     "output_type": "stream",
     "text": [
      "/var/folders/r2/8fwp8hwn29q_slh9d8yh34gc0000gn/T/ipykernel_6817/325375971.py:3: RuntimeWarning: divide by zero encountered in log\n",
      "  print(\"Original function:\", np.log(1 - np.tanh(u)**2))\n"
     ]
    }
   ],
   "source": [
    "u = 300\n",
    "eps = 1e-6\n",
    "print(\"Original function:\", np.log(1 - np.tanh(u)**2))\n",
    "eps_add = np.log(1 - np.tanh(u)**2 + eps)\n",
    "print(\"Attempt imporove stability with add small constant:\", eps_add)\n",
    "print(\"Use more numerically stable form:\", np.log(4) - 2 * np.log(np.exp(-u) + np.exp(u)))"
   ]
  },
  {
   "cell_type": "code",
   "execution_count": 28,
   "id": "3f85f060",
   "metadata": {
    "slideshow": {
     "slide_type": "slide"
    }
   },
   "outputs": [
    {
     "name": "stdout",
     "output_type": "stream",
     "text": [
      "[nan  0.  0.  0.  0.]\n",
      "[1. 0. 0. 0. 0.]\n"
     ]
    },
    {
     "name": "stderr",
     "output_type": "stream",
     "text": [
      "/var/folders/r2/8fwp8hwn29q_slh9d8yh34gc0000gn/T/ipykernel_6817/3690536116.py:4: RuntimeWarning: overflow encountered in exp\n",
      "  print(np.exp(x) / np.sum(np.exp(x)))\n",
      "/var/folders/r2/8fwp8hwn29q_slh9d8yh34gc0000gn/T/ipykernel_6817/3690536116.py:4: RuntimeWarning: invalid value encountered in true_divide\n",
      "  print(np.exp(x) / np.sum(np.exp(x)))\n"
     ]
    }
   ],
   "source": [
    "n = 5\n",
    "x = np.random.randn(n)\n",
    "x[0] = 1000\n",
    "print(np.exp(x) / np.sum(np.exp(x)))\n",
    "print(np.exp(x - np.max(x)) / np.sum(np.exp(x - np.max(x))))"
   ]
  },
  {
   "cell_type": "markdown",
   "id": "f461a210",
   "metadata": {
    "slideshow": {
     "slide_type": "slide"
    }
   },
   "source": [
    "## Резюме\n",
    "\n",
    "- Векторные нормы: $1$, $p$ и евклидова норма \n",
    "- $L_1$ норма как спопособ получить разреженное решение, задача compressed sensing\n",
    "- Прямая (forward) и обратная (backward) устойчивость алгоритмов"
   ]
  }
 ],
 "metadata": {
  "celltoolbar": "Slideshow",
  "kernelspec": {
   "display_name": "Python 3 (ipykernel)",
   "language": "python",
   "name": "python3"
  },
  "language_info": {
   "codemirror_mode": {
    "name": "ipython",
    "version": 3
   },
   "file_extension": ".py",
   "mimetype": "text/x-python",
   "name": "python",
   "nbconvert_exporter": "python",
   "pygments_lexer": "ipython3",
   "version": "3.9.13"
  }
 },
 "nbformat": 4,
 "nbformat_minor": 5
}
