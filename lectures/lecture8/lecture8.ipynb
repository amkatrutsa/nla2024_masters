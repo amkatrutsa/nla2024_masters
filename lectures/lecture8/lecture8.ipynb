{
 "cells": [
  {
   "cell_type": "markdown",
   "id": "c509c743",
   "metadata": {
    "slideshow": {
     "slide_type": "slide"
    }
   },
   "source": [
    "# Лекция 8. QR разложение и способы его вычисления"
   ]
  },
  {
   "cell_type": "markdown",
   "id": "75a894af",
   "metadata": {
    "slideshow": {
     "slide_type": "slide"
    }
   },
   "source": [
    "## В прошлый раз\n",
    "\n",
    "- PLU разложение\n",
    "- Ряд Неймана\n",
    "- Число обусловленности"
   ]
  },
  {
   "cell_type": "markdown",
   "id": "19aed6df",
   "metadata": {
    "slideshow": {
     "slide_type": "slide"
    }
   },
   "source": [
    "## План на сегодня\n",
    "\n",
    "- Что такое QR разложение?\n",
    "- Всегда ли оно существует?\n",
    "- Как вычислить?"
   ]
  },
  {
   "cell_type": "markdown",
   "id": "96625721",
   "metadata": {
    "slideshow": {
     "slide_type": "slide"
    }
   },
   "source": [
    "## Общая концепция матричных разложений\n",
    "\n",
    "Вычислительная линейная алгебра занимается решением следующих задач:\n",
    "\n",
    "- Решение линейных систем $Ax = f$\n",
    "- Вычисление собственных значений и векторов\n",
    "- Вычисление сингулярных значений и векторов \n",
    "- Вычисление обратных матриц и иногда детерминантов\n",
    "- Вычисление **матричных функций** таких как $\\exp(A), \\cos(A)$ (это не поэлементные функции!)\n",
    "\n",
    "Для решения таких задач мы представляемм матрицу в виде суммы и/или произведения матриц **более простой структуры**, таких что мы можем решить эти задачи быстрее и/или более устойчивым образом.\n",
    "\n",
    "Что такое **более простая структура**?"
   ]
  },
  {
   "cell_type": "markdown",
   "id": "9092787b",
   "metadata": {
    "slideshow": {
     "slide_type": "slide"
    }
   },
   "source": [
    "## Матрицы простой структуры\n",
    "\n",
    "Мы уже упоминали некоторые классы структурированных матриц. \n",
    "\n",
    "Для плотных матриц это следующие матрицы\n",
    "\n",
    "- **унитарные матрицы**\n",
    "- **нижне- верхнетреугольные матрицы** \n",
    "- **диагональные матрицы**"
   ]
  },
  {
   "cell_type": "markdown",
   "id": "03045eaf",
   "metadata": {
    "slideshow": {
     "slide_type": "slide"
    }
   },
   "source": [
    "## QR разложение\n",
    "\n",
    "- Как следует из названия, это представление матрицы в виде произведения\n",
    "\n",
    "$$\n",
    "    A = Q R, \n",
    "$$\n",
    "\n",
    "где $Q$ – матрица с **ортогональными столбцами** и $R$ – **верхнетреугольная**.  \n",
    "\n",
    "- Размеры матриц: $Q$ – $n \\times m$, $R$ – $m \\times m$, если $n\\geq m$.\n",
    "\n",
    "- QR разложение определено для любой **прямоугольной матрицы**."
   ]
  },
  {
   "cell_type": "markdown",
   "id": "e6e1b468",
   "metadata": {
    "slideshow": {
     "slide_type": "slide"
    }
   },
   "source": [
    "## Приложения QR разложения\n",
    "\n",
    "Это разложение играет ключевую роль при решении многих задач, например:\n",
    "- Получение ортогонального базиса в линейном пространстве\n",
    "- Используется для препроцессинга при вычислении SVD\n",
    "- QR алгоритм для вычисления собственных векторов и собственных значений ([один из 10 самых важных алгоритмов ХХ века](https://archive.siam.org/pdf/news/637.pdf)) основан на вычислении QR разложения\n",
    "- Решение переопределённых систем линейных уравнений"
   ]
  },
  {
   "cell_type": "markdown",
   "id": "71e991eb",
   "metadata": {
    "slideshow": {
     "slide_type": "slide"
    }
   },
   "source": [
    "## Существование QR разложения\n",
    "\n",
    "**Теорема.**\n",
    "\n",
    "Каждая матрица $n \\times m$ может быть представлена в виде QR разложения. \n",
    "\n",
    "\n",
    "Существует несколько способов доказательства и вычисления:\n",
    "\n",
    "- Теоретический: используя матрицу Грама и разложение Холецкого\n",
    "- Геометрический: используя ортогонализацию Грама-Шмидта\n",
    "- Практический: используя преобразования Гивенса/Хаусхолдера"
   ]
  },
  {
   "cell_type": "markdown",
   "id": "baf2f928",
   "metadata": {
    "slideshow": {
     "slide_type": "slide"
    }
   },
   "source": [
    "### Доказательство с использованием разложения Холецкого\n",
    "\n",
    "Если у нас есть разложение\n",
    "\n",
    "$$A = QR,$$\n",
    "\n",
    "тогда $A^* A = ( Q R)^* (QR)  = R^* (Q^* Q) R = R^* R$, матрица $A^* A$ называется **матрицей Грама**, и её элементы – скалярные произведения столбцов матрицы $A$.  "
   ]
  },
  {
   "cell_type": "markdown",
   "id": "cf1b632d",
   "metadata": {
    "slideshow": {
     "slide_type": "slide"
    }
   },
   "source": [
    "### Случай матрицы полного ранга\n",
    "\n",
    "Пусть $A$ имеет **полный столбцовый ранг**. Тогда легко показать, что $A^* A$ положительно определена:\n",
    "\n",
    "$$\n",
    "   (A^* A y, y) = (Ay, Ay) = \\Vert Ay \\Vert^2_2  > 0, \\quad y\\not = 0.\n",
    "$$\n",
    "\n",
    "Поэтому, $A^* A = R^* R$ всегда существует.\n",
    "\n",
    "Тогда матрица $A R^{-1}$ унитарна:  \n",
    "\n",
    "$$\n",
    "   (A R^{-1})^* (AR^{-1})= R^{-*} A^* A R^{-1} = R^{-*} R^* R R^{-1} = I.\n",
    "$$\n"
   ]
  },
  {
   "cell_type": "markdown",
   "id": "96919013",
   "metadata": {
    "slideshow": {
     "slide_type": "slide"
    }
   },
   "source": [
    "### Случай матрицы неполного ранга\n",
    "\n",
    "- QR разложение по-прежнему существует.\n",
    "\n",
    "- Для любой матрицы неполного ранга существует последовательность матриц полного ранга $A_k$ такая что $A_k \\rightarrow A$ (почему?).\n",
    "\n",
    "- Каждая $A_k$ может быть разложена $A_k = Q_k R_k$. \n",
    "\n",
    "- Множество унитарных матриц образует компакт, таким образом найдётся сходящаяся подпоследовательность $Q_{n_k} \\rightarrow Q$ (почему?), и $R_{n_k} = Q^*_{n_k} A_{n_k} \\rightarrow Q^* A = R$, которая верхнетреугольная."
   ]
  },
  {
   "cell_type": "markdown",
   "id": "bb7f0bba",
   "metadata": {
    "slideshow": {
     "slide_type": "slide"
    }
   },
   "source": [
    "## Устойчивость вычисления QR разложения с помощью разложения Холецкого \n",
    "\n",
    "Итак, простейший способ вычисления QR разложения следующий\n",
    "\n",
    "$$A^* A = R^* R,$$\n",
    "\n",
    "и\n",
    "\n",
    "$$Q = A R^{-1}.$$\n",
    "\n",
    "Это **плохая идея** с точки зрения устойчивости. Покажем, почему это так."
   ]
  },
  {
   "cell_type": "code",
   "execution_count": 11,
   "id": "b4d6e51f",
   "metadata": {
    "slideshow": {
     "slide_type": "slide"
    }
   },
   "outputs": [
    {
     "name": "stdout",
     "output_type": "stream",
     "text": [
      "(50, 8)\n",
      "Built-in QR orth 1.924152493674034e-15\n",
      "Via Cholesky: 0.04587925317113147\n"
     ]
    }
   ],
   "source": [
    "import numpy as np\n",
    "n = 50\n",
    "r = 8\n",
    "a = [[1.0 / (i + j + 0.5) for i in range(r)] for j in range(n)]\n",
    "a = np.array(a)\n",
    "print(a.shape)\n",
    "q, Rmat = np.linalg.qr(a)\n",
    "e = np.eye(r)\n",
    "print('Built-in QR orth', np.linalg.norm(np.dot(q.T, q) - e))\n",
    "gram_matrix = a.T.dot(a)\n",
    "Rmat1 = np.linalg.cholesky(gram_matrix)\n",
    "q1 = np.dot(a, np.linalg.inv(Rmat1.T))\n",
    "print('Via Cholesky:', np.linalg.norm(np.dot(q1.T, q1) - e))"
   ]
  },
  {
   "cell_type": "markdown",
   "id": "cd63c476",
   "metadata": {
    "slideshow": {
     "slide_type": "slide"
    }
   },
   "source": [
    "## Второй способ: ортогонализация Грама-Шмидта\n",
    "\n",
    "- QR разложение – это способ записи процесса ортогонализации Грама-Шмидта\n",
    "- Для данного набора векторов $a_1, \\ldots, a_m$ мы хотим найти ортонормированный базис $q_1, \\ldots, q_m$ такой чтобы каждый вектор $a_i$ представлялся как линейная комбинация векторов из базиса.  \n",
    "\n",
    "**Метод Грама-Шмидта:**\n",
    "1. $q_1 := a_1/\\Vert a_1 \\Vert$\n",
    "2. $q_2 := a_2 - (a_2, q_1) q_1, \\quad q_2 := q_2/\\Vert q_2 \\Vert$\n",
    "3. $q_3 := a_3 - (a_3, q_1) q_1 - (a_3, q_2) q_2, \\quad q_3 := q_3/\\Vert q_3 \\Vert$\n",
    "4. И так далее  \n",
    "\n",
    "Заметим, что преобразование из $A$ в $Q$ имеет треугольную структуру, поскольку мы вычитаем из $k$-го вектора только предыдущие. Это следует из того, что произведение треугольных матриц – это треугольная матрица."
   ]
  },
  {
   "cell_type": "markdown",
   "id": "608a9ba9",
   "metadata": {
    "slideshow": {
     "slide_type": "slide"
    }
   },
   "source": [
    "## Модифицированный метод Грама-Шмидта\n",
    "\n",
    "- Метод Грама-Шмидта может быть очень неустойчивым (то есть генерировать векторы, которая не являются ортогональными, особенно если $q_k$ малой нормы).  \n",
    "Это называется **потеря ортогональности**.  \n",
    "\n",
    "- Этот недостаток метода Грама-Шмидта исправляется с помощью **модифицированного метода Грама-Шмидта**. Вместо вычисления\n",
    "\n",
    "$$q_k := a_k - (a_k, q_1) q_1 - \\ldots - (a_k, q_{k-1}) q_{k-1}$$\n",
    "\n",
    "мы будем вычислять это выражение шаг за шагом. Сначала присвоим $q_k := a_k$, затем последовательно ортогонализуем:\n",
    "\n",
    "$$\n",
    "   q_k := q_k - (q_k, q_1)q_1, \\quad q_k := q_{k} - (q_k,q_2)q_2, \\ldots\n",
    "$$\n",
    "\n",
    "- В точной арифметике, это одинаковые алгоритмы. В неточной арифметике они абсолютно разные!\n",
    "\n",
    "- Заметим, что сложность по-прежнему $\\mathcal{O}(nm^2)$ операций"
   ]
  },
  {
   "cell_type": "code",
   "execution_count": 29,
   "id": "96049bf2",
   "metadata": {
    "slideshow": {
     "slide_type": "slide"
    }
   },
   "outputs": [
    {
     "name": "stdout",
     "output_type": "stream",
     "text": [
      "0.1728828047902182\n",
      "1.5936813088446094e-16\n",
      "1.2696433159012304e-09\n",
      "1.658816568534105e-16\n"
     ]
    }
   ],
   "source": [
    "import numpy as np\n",
    "\n",
    "n = 50\n",
    "r = 8\n",
    "a = [[1.0 / (i + j + 0.5) for i in range(r)] for j in range(n)]\n",
    "A = np.array(a)\n",
    "\n",
    "def gramm_schmidt(A):\n",
    "    Q = np.zeros_like(A)\n",
    "    R = np.zeros((A.shape[1], A.shape[1]))\n",
    "    n = A.shape[1]\n",
    "    for i in range(A.shape[1]):\n",
    "        Q[:, i] = A[:, i].copy()\n",
    "        for j in range(i):\n",
    "            R[j, i] = Q[:, i] @ Q[:, j]\n",
    "        for j in range(i):\n",
    "            Q[:, i] -= R[j, i] * Q[:, j]\n",
    "        R[i, i] = np.linalg.norm(Q[:, i])\n",
    "        Q[:, i] /= np.linalg.norm(Q[:, i])\n",
    "    return Q, R\n",
    "\n",
    "Q, R = gramm_schmidt(A)\n",
    "print(np.linalg.norm(Q.T @ Q - np.eye(r)))\n",
    "print(np.linalg.norm(A - Q @ R))\n",
    "\n",
    "def modified_gramm_schmidt(A):\n",
    "    Q = np.zeros_like(A)\n",
    "    R = np.zeros((A.shape[1], A.shape[1]))\n",
    "    n = A.shape[1]\n",
    "    for i in range(A.shape[1]):\n",
    "        Q[:, i] = A[:, i].copy()\n",
    "        for j in range(i):\n",
    "            R[j, i] = Q[:, i] @ Q[:, j]\n",
    "            Q[:, i] -= Q[:, i] @ Q[:, j] * Q[:, j]\n",
    "        R[i, i] = np.linalg.norm(Q[:, i])\n",
    "        Q[:, i] /= np.linalg.norm(Q[:, i])\n",
    "    return Q, R\n",
    "\n",
    "Q, R = modified_gramm_schmidt(A)\n",
    "print(np.linalg.norm(Q.T @ Q - np.eye(r)))\n",
    "print(np.linalg.norm(A - Q @ R))"
   ]
  },
  {
   "cell_type": "markdown",
   "id": "11515978",
   "metadata": {
    "slideshow": {
     "slide_type": "slide"
    }
   },
   "source": [
    "## QR разложение: почти практический способ\n",
    "\n",
    "Если $A = QR$, тогда  \n",
    "\n",
    "$$\n",
    "R = Q^* A,\n",
    "$$\n",
    "\n",
    "и нам нужно найти такую ортогональную матрицу $Q$, которая преобразует данную матрицу $A$ в верхнетреугольную.  \n",
    "Для простоты мы будем смотреть на матрицы $n \\times n$ такие что\n",
    "\n",
    "$$ Q^* A = \\begin{bmatrix} * & * & *  \\\\ 0 & * & * \\\\ 0 & 0 & * \\\\ & 0_{(n-m) \\times m} \\end{bmatrix} $$"
   ]
  },
  {
   "cell_type": "markdown",
   "id": "334cd652",
   "metadata": {
    "slideshow": {
     "slide_type": "slide"
    }
   },
   "source": [
    "Будем приводить матрицу к такому виду столбец за столбцом.\n",
    "\n",
    "Сначала найдём такую матрицу Хаусхолдера $H_1 = (I - 2 uu^{\\top})$ что \n",
    "\n",
    "$$ H_1 A = \\begin{bmatrix} * & * & * \\\\ 0 & * & * \\\\ 0 & * & * \\\\ 0 & * & * \\end{bmatrix} $$"
   ]
  },
  {
   "cell_type": "markdown",
   "id": "ba1382af",
   "metadata": {
    "slideshow": {
     "slide_type": "slide"
    }
   },
   "source": [
    "Затем\n",
    "\n",
    "$$ H_2 H_1 A = \\begin{bmatrix} * & * & * \\\\ 0 & * & * \\\\ 0 & 0 & * \\\\ 0 & 0 & * \\end{bmatrix}, $$\n",
    "\n",
    "где\n",
    "\n",
    "$$ H_2 = \\begin{bmatrix} 1 & 0 \\\\ 0 & H'_2, \\end{bmatrix} $$\n",
    "\n",
    "и $H'_2$ матрица Хаусхолдера $3 \\times 3$."
   ]
  },
  {
   "cell_type": "markdown",
   "id": "640da131",
   "metadata": {
    "slideshow": {
     "slide_type": "slide"
    }
   },
   "source": [
    "И наконец, \n",
    "\n",
    "$$ H_3 H_2 H_1 A = \\begin{bmatrix} * & * & * \\\\ 0 & * & * \\\\ 0 & 0 & * \\\\ 0 & 0 & 0 \\end{bmatrix}, $$\n",
    "\n",
    "где $H_3=\\begin{bmatrix}I_2 & \\\\ & {\\widetilde H}_3 \\end{bmatrix}$ такая что\n",
    "\n",
    "$$ \n",
    "{\\widetilde H}_3 \\begin{bmatrix} \\boldsymbol{\\times}\\\\ \\boldsymbol{\\times} \\\\ \\boldsymbol{\\times}  \\end{bmatrix} = \n",
    "\\begin{bmatrix} \\times \\\\ 0 \\\\ 0  \\end{bmatrix}.\n",
    "$$\n",
    "\n",
    "Попробуйте самостоятельно реализовать такой алгоритм, это просто!"
   ]
  },
  {
   "cell_type": "markdown",
   "id": "a6da38bf",
   "metadata": {
    "slideshow": {
     "slide_type": "slide"
    }
   },
   "source": [
    "### Получение QR разложения\n",
    "\n",
    "Так как \n",
    "\n",
    "$$ H_3H_2H_1A = HA = R,$$\n",
    "\n",
    "где $H$ – унитарная матрица, то\n",
    "\n",
    "$$ A = H^*R. $$\n",
    "\n",
    "Таким образом $Q = H^*$."
   ]
  },
  {
   "cell_type": "markdown",
   "id": "2173f7ee",
   "metadata": {
    "slideshow": {
     "slide_type": "slide"
    }
   },
   "source": [
    "## QR разложение: практический способ\n",
    "\n",
    "- Поскольку мы работаем с плотной матрицей, то на практике нам нужен алгоритм, оперирующий блоками (почему?).  \n",
    "\n",
    "- Вместо использования преобразования Хаусхолдера, мы будем использовать **блочное преобразование Хаусхолдера** вида \n",
    "\n",
    "$$H = (I - 2UU^*), $$\n",
    "\n",
    "где $U^* U = I$.\n",
    "\n",
    "- Это позволяет использовать BLAS-3 операции"
   ]
  },
  {
   "cell_type": "markdown",
   "id": "178fd72f",
   "metadata": {
    "slideshow": {
     "slide_type": "slide"
    }
   },
   "source": [
    "## QR разложение: практический способ - 2\n",
    "\n",
    "Аналогично преобразованию Хаусхолдера для вычисления QR разложения можно использовать преобразование Гивенса\n",
    "\n",
    "$$\\begin{bmatrix} \\times & \\times & \\times \\\\ \\bf{*} & \\times & \\times \\\\ \\bf{*} & \\times & \\times \\end{bmatrix} \\to \\begin{bmatrix} * & \\times & \\times \\\\ * & \\times & \\times \\\\ 0 & \\times & \\times \\end{bmatrix} \\to \\begin{bmatrix} \\times & \\times & \\times \\\\ 0 & * & \\times \\\\ 0 & * & \\times \\end{bmatrix} \\to \\begin{bmatrix} \\times & \\times & \\times \\\\ 0 & \\times & \\times \\\\ 0 & 0 & \\times \\end{bmatrix} $$"
   ]
  },
  {
   "cell_type": "markdown",
   "id": "72dfe7b2",
   "metadata": {
    "slideshow": {
     "slide_type": "slide"
    }
   },
   "source": [
    "## Преобразование Гивенса vs. преобразование Хаусхолдера\n",
    "\n",
    "- Матрицы Хаусхолдера полезны для плотных матриц (сложность примерно в два раза меньше), в которых необходимо занулить большое число элементов за одно отражение.\n",
    "- Вращения Гивенса больше подходят для работы с разреженными матрицами или параллельными вычислениями, поскольку они зануляют только один элемент каждым действием."
   ]
  },
  {
   "cell_type": "markdown",
   "id": "04f88fa6",
   "metadata": {
    "slideshow": {
     "slide_type": "slide"
    }
   },
   "source": [
    "## QR разложение: итоги\n",
    "\n",
    "- Существует для любой матрицы\n",
    "- Геометрически означает ортогонализацию векторов\n",
    "- Эффективные алгоритмы основаны на BLAS-3 операциях"
   ]
  }
 ],
 "metadata": {
  "celltoolbar": "Slideshow",
  "kernelspec": {
   "display_name": "Python 3 (ipykernel)",
   "language": "python",
   "name": "python3"
  },
  "language_info": {
   "codemirror_mode": {
    "name": "ipython",
    "version": 3
   },
   "file_extension": ".py",
   "mimetype": "text/x-python",
   "name": "python",
   "nbconvert_exporter": "python",
   "pygments_lexer": "ipython3",
   "version": "3.9.13"
  }
 },
 "nbformat": 4,
 "nbformat_minor": 5
}
